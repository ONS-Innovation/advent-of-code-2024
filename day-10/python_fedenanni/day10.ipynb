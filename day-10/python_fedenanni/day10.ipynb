{
 "cells": [
  {
   "cell_type": "code",
   "execution_count": null,
   "metadata": {},
   "outputs": [],
   "source": [
    "input = open('input.txt', 'r').read().strip().split('\\n')\n",
    "input = [list(x) for x in input]\n",
    "input = [[int(x) for x in y] for y in input]\n",
    "get_zero_pos = [(x,y) for x in range(len(input))for y in range(len(input[x])) if input[x][y] == 0]\n",
    "\n",
    "def get_positions_around(input, pos):\n",
    "    x, y = pos\n",
    "    positions = [(x+1, y), (x-1, y), (x, y+1), (x, y-1)]\n",
    "    return [x for x in positions if x[0] >= 0 and x[1] >= 0 and x[0] < len(input) and x[1] < len(input[x[0]])]\n",
    "\n",
    "def find_next(input, pos):\n",
    "    possible_mov = get_positions_around(input, pos)\n",
    "    keep_moves = [x for x in possible_mov if input[x[0]][x[1]] ==  input[pos[0]][pos[1]] + 1]\n",
    "    return keep_moves\n",
    "\n",
    "def find_path(input, pos, puzzle = 1):\n",
    "    next_moves = find_next(input, pos)\n",
    "    if puzzle == 1:\n",
    "        nines = set()\n",
    "    if puzzle == 2:\n",
    "        nines = []\n",
    "    for move in next_moves:\n",
    "        if input[move[0]][move[1]] == 9:\n",
    "            if puzzle == 1:\n",
    "                nines.add(move)\n",
    "            if puzzle == 2:\n",
    "                nines.append(move)\n",
    "        else:\n",
    "            steps = find_next(input, move)\n",
    "            for step in steps:\n",
    "                next_moves.append(step)\n",
    "    return nines    "
   ]
  },
  {
   "cell_type": "code",
   "execution_count": 2,
   "metadata": {},
   "outputs": [
    {
     "name": "stdout",
     "output_type": "stream",
     "text": [
      "574\n"
     ]
    }
   ],
   "source": [
    "res = 0\n",
    "for pos in get_zero_pos:\n",
    "    res += len(find_path(input, pos, puzzle=1))\n",
    "print(res)"
   ]
  },
  {
   "cell_type": "code",
   "execution_count": 3,
   "metadata": {},
   "outputs": [
    {
     "name": "stdout",
     "output_type": "stream",
     "text": [
      "1238\n"
     ]
    }
   ],
   "source": [
    "res = 0\n",
    "for pos in get_zero_pos:\n",
    "    res += len(find_path(input, pos, puzzle=2))\n",
    "print(res)"
   ]
  }
 ],
 "metadata": {
  "kernelspec": {
   "display_name": ".venv",
   "language": "python",
   "name": "python3"
  },
  "language_info": {
   "codemirror_mode": {
    "name": "ipython",
    "version": 3
   },
   "file_extension": ".py",
   "mimetype": "text/x-python",
   "name": "python",
   "nbconvert_exporter": "python",
   "pygments_lexer": "ipython3",
   "version": "3.9.7"
  }
 },
 "nbformat": 4,
 "nbformat_minor": 2
}
