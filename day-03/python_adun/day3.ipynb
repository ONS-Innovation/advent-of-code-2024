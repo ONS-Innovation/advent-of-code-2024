{
 "cells": [
  {
   "cell_type": "code",
   "execution_count": 131,
   "metadata": {},
   "outputs": [],
   "source": [
    "import numpy as np\n",
    "import re\n"
   ]
  },
  {
   "cell_type": "code",
   "execution_count": 132,
   "metadata": {},
   "outputs": [],
   "source": [
    "# open the file day3.txt and load the lines into a list\n",
    "with open('day3.txt', 'r') as file:\n",
    "    lines = file.readlines()"
   ]
  },
  {
   "cell_type": "code",
   "execution_count": 136,
   "metadata": {},
   "outputs": [
    {
     "name": "stdout",
     "output_type": "stream",
     "text": [
      "174960292\n"
     ]
    }
   ],
   "source": [
    "# Part 1\n",
    "\n",
    "# use a regex to parse the lines into a list of tuples\n",
    "pattern = r'mul\\((\\d+),(\\d+)\\)'\n",
    "\n",
    "def line_product_sum(line):\n",
    "    matches = re.findall(pattern, line)\n",
    "    line_sum = sum([int(match[0]) * int(match[1]) for match in matches])\n",
    "    return line_sum\n",
    "\n",
    "\n",
    "# add up line_product_sum for all lines\n",
    "total_sum = sum([line_product_sum(line) for line in lines])\n",
    "print(total_sum)\n",
    "\n"
   ]
  },
  {
   "cell_type": "code",
   "execution_count": 137,
   "metadata": {},
   "outputs": [],
   "source": [
    "# Part 2\n",
    "\n",
    "# regex pattern to match the lines\n",
    "pattern = r\"(do)\\(\\)|(don't)\\(\\)|(mul)\\((\\d+),(\\d+)\\)\"\n",
    "\n",
    "def line_product_sum2(line):\n",
    "    matches = re.findall(pattern, line)\n",
    "\n",
    "    do_state = True\n",
    "    product_sum = 0\n",
    "    for i in range(len(matches)):\n",
    "        if  matches[i][2]:\n",
    "            if do_state:\n",
    "                product_sum += int(matches[i][3]) * int(matches[i][4])\n",
    "        elif  matches[i][0]:\n",
    "            do_state = True\n",
    "        elif  matches[i][1]:\n",
    "            do_state = False\n",
    "\n",
    "    return product_sum\n"
   ]
  },
  {
   "cell_type": "code",
   "execution_count": 138,
   "metadata": {},
   "outputs": [
    {
     "data": {
      "text/plain": [
       "56275602"
      ]
     },
     "execution_count": 138,
     "metadata": {},
     "output_type": "execute_result"
    }
   ],
   "source": [
    "# concatenate all lines into a single string\n",
    "all_lines = ''.join(lines)\n",
    "\n",
    "# add up line_product_sum2 for all lines\n",
    "line_product_sum2(all_lines)"
   ]
  },
  {
   "cell_type": "code",
   "execution_count": null,
   "metadata": {},
   "outputs": [],
   "source": []
  }
 ],
 "metadata": {
  "kernelspec": {
   "display_name": "Python 3",
   "language": "python",
   "name": "python3"
  },
  "language_info": {
   "codemirror_mode": {
    "name": "ipython",
    "version": 3
   },
   "file_extension": ".py",
   "mimetype": "text/x-python",
   "name": "python",
   "nbconvert_exporter": "python",
   "pygments_lexer": "ipython3",
   "version": "3.12.7"
  }
 },
 "nbformat": 4,
 "nbformat_minor": 2
}
