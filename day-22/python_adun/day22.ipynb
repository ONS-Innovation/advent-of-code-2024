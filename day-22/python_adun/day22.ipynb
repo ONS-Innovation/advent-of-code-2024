{
 "cells": [
  {
   "cell_type": "code",
   "execution_count": 339,
   "metadata": {},
   "outputs": [],
   "source": [
    "# open input.txt\n",
    "with open('input.txt', 'r') as file:\n",
    "    data = file.read().strip()\n",
    "\n",
    "# split data into lines\n",
    "lines = data.split('\\n')\n",
    "\n",
    "initials = [int(line) for line in lines]"
   ]
  },
  {
   "cell_type": "code",
   "execution_count": 340,
   "metadata": {},
   "outputs": [],
   "source": [
    "def next_secret(secret):\n",
    "    num = secret << 6 # shift left 6 bits\n",
    "    secret = num ^ secret # xor with the original secret\n",
    "    secret = secret % (1 << 24)\n",
    "\n",
    "    num = secret >> 5 # shift right 5 bits\n",
    "    secret = num ^ secret # xor with the original secret\n",
    "    secret = secret % (1 << 24)  # strip of all but the last 24 bits\n",
    "\n",
    "    num = secret << 11 # shift left 11 bits\n",
    "    secret = num ^ secret # xor with the original secret\n",
    "    return secret % (1 << 24) # strip of all but the last 24 bits\n",
    "\n",
    "def repeat_secret(initial, num_times=1):\n",
    "    secret = initial\n",
    "    for _ in range(num_times):\n",
    "        secret = next_secret(secret)\n",
    "    return secret"
   ]
  },
  {
   "cell_type": "code",
   "execution_count": 341,
   "metadata": {},
   "outputs": [
    {
     "data": {
      "text/plain": [
       "16039090236"
      ]
     },
     "execution_count": 341,
     "metadata": {},
     "output_type": "execute_result"
    }
   ],
   "source": [
    "# part 1\n",
    "sum(repeat_secret(initial, 2000) for initial in initials)"
   ]
  },
  {
   "cell_type": "code",
   "execution_count": 342,
   "metadata": {},
   "outputs": [],
   "source": [
    "# part 2\n",
    "def get_price(secret, num_times=1):\n",
    "    prices = []\n",
    "    diffs = []\n",
    "\n",
    "    prev_price = secret % 10\n",
    "\n",
    "    for _ in range(num_times):\n",
    "        secret = next_secret(secret)\n",
    "        price = secret % 10\n",
    "\n",
    "        prices.append(price)\n",
    "        diffs.append(price - prev_price)\n",
    "\n",
    "        prev_price = price\n",
    "\n",
    "    return prices, diffs"
   ]
  },
  {
   "cell_type": "code",
   "execution_count": 343,
   "metadata": {},
   "outputs": [
    {
     "data": {
      "text/plain": [
       "('-2,3,-3,3', 1808)"
      ]
     },
     "execution_count": 343,
     "metadata": {},
     "output_type": "execute_result"
    }
   ],
   "source": [
    "prices, diffs = get_price(123, 2000)\n",
    "\n",
    "price_dict = {}\n",
    "for initial in initials:\n",
    "    buy_dict = {}\n",
    "    prices, diffs = get_price(initial, 2000)\n",
    "    for i in range(len(diffs)-1,2,-1):\n",
    "        diff_sequence = \",\".join([str(diff) for diff in diffs[i-3:i+1]])\n",
    "        buy_dict[diff_sequence] = prices[i]\n",
    "\n",
    "    for diff_sequence, price in buy_dict.items():\n",
    "        price_dict[diff_sequence] = price_dict.get(diff_sequence, 0) + price\n",
    "\n",
    "# find the diff sequence that has the highest sum\n",
    "max(price_dict, key=price_dict.get), max(price_dict.values())"
   ]
  }
 ],
 "metadata": {
  "kernelspec": {
   "display_name": "iot",
   "language": "python",
   "name": "python3"
  },
  "language_info": {
   "codemirror_mode": {
    "name": "ipython",
    "version": 3
   },
   "file_extension": ".py",
   "mimetype": "text/x-python",
   "name": "python",
   "nbconvert_exporter": "python",
   "pygments_lexer": "ipython3",
   "version": "3.10.12"
  }
 },
 "nbformat": 4,
 "nbformat_minor": 2
}
