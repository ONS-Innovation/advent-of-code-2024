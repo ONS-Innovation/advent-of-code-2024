{
 "cells": [
  {
   "cell_type": "code",
   "execution_count": 1,
   "metadata": {},
   "outputs": [
    {
     "data": {
      "text/plain": [
       "303"
      ]
     },
     "execution_count": 1,
     "metadata": {},
     "output_type": "execute_result"
    }
   ],
   "source": [
    "from collections import Counter\n",
    "import copy \n",
    "\n",
    "input = open(\"input.txt\", \"r\").read().strip().split(\"\\n\")\n",
    "input = [list(x) for x in input]\n",
    "\n",
    "antenna_positions = [(x,y) for x in range(len(input)) for y in range(len(input[0])) if input[x][y] != \".\"]\n",
    "def is_out(x, y):\n",
    "    return x < 0 or y < 0 or x >= len(input) or y >= len(input[0])\n",
    "\n",
    "antinodes = []\n",
    "\n",
    "for a in range(len(antenna_positions)):\n",
    "    for b in range(a+1, len(antenna_positions)):\n",
    "        # if same type of antenna\n",
    "        if input[antenna_positions[a][0]][antenna_positions[a][1]] == input[antenna_positions[b][0]][antenna_positions[b][1]]:\n",
    "            x1, y1 = antenna_positions[a]\n",
    "            x2, y2 = antenna_positions[b]\n",
    "            dx = x2 - x1\n",
    "            dy = y2 - y1\n",
    "\n",
    "            # Thank you guy explaining it on Reddit: https://www.reddit.com/r/adventofcode/comments/1h9bmsm/comment/m10fiha/?utm_source=share&utm_medium=web3x&utm_name=web3xcss&utm_term=1&utm_content=share_button\n",
    "            antinode_1 = (x2 + dx, y2 + dy)\n",
    "            antinode_2 = (x1 - dx, y1 - dy)\n",
    "            if not is_out(*antinode_1):\n",
    "                antinodes.append(antinode_1)\n",
    "            if not is_out(*antinode_2):\n",
    "                antinodes.append(antinode_2)     \n",
    "len(set(antinodes))"
   ]
  },
  {
   "cell_type": "code",
   "execution_count": null,
   "metadata": {},
   "outputs": [
    {
     "data": {
      "text/plain": [
       "1045"
      ]
     },
     "execution_count": 2,
     "metadata": {},
     "output_type": "execute_result"
    }
   ],
   "source": [
    "antinodes = []\n",
    "\n",
    "# Recopy pasting it all\n",
    "for a in range(len(antenna_positions)):\n",
    "    for b in range(a+1, len(antenna_positions)):\n",
    "        # if same type of antenna\n",
    "        if input[antenna_positions[a][0]][antenna_positions[a][1]] == input[antenna_positions[b][0]][antenna_positions[b][1]]:\n",
    "            x1, y1 = antenna_positions[a]\n",
    "            x2, y2 = antenna_positions[b]\n",
    "            dx = x2 - x1\n",
    "            dy = y2 - y1\n",
    "            dx = x2 - x1\n",
    "            dy = y2 - y1\n",
    "\n",
    "            # Thank you guy explaining it on Reddit: https://www.reddit.com/r/adventofcode/comments/1h9bmsm/comment/m10fiha/?utm_source=share&utm_medium=web3x&utm_name=web3xcss&utm_term=1&utm_content=share_button\n",
    "            antinode_1 = (x2 + dx, y2 + dy)\n",
    "            antinode_2 = (x1 - dx, y1 - dy)\n",
    "            \n",
    "            if not is_out(*antinode_1):\n",
    "                antinodes.append(antinode_1)\n",
    "            if not is_out(*antinode_2):\n",
    "                antinodes.append(antinode_2)     \n",
    "\n",
    "            # at each position of antenna\n",
    "            antinodes.append(antenna_positions[a])\n",
    "            antinodes.append(antenna_positions[b])\n",
    "\n",
    "            while not is_out(x1 + dx, y1 + dy):\n",
    "                x1 += dx\n",
    "                y1 += dy\n",
    "                antinodes.append((x1, y1))\n",
    "\n",
    "            while not is_out(x2 - dx, y2 - dy):\n",
    "                x2 -= dx\n",
    "                y2 -= dy\n",
    "                antinodes.append((x2, y2))\n",
    "\n",
    "len(set(antinodes))"
   ]
  }
 ],
 "metadata": {
  "kernelspec": {
   "display_name": ".venv",
   "language": "python",
   "name": "python3"
  },
  "language_info": {
   "codemirror_mode": {
    "name": "ipython",
    "version": 3
   },
   "file_extension": ".py",
   "mimetype": "text/x-python",
   "name": "python",
   "nbconvert_exporter": "python",
   "pygments_lexer": "ipython3",
   "version": "3.9.7"
  }
 },
 "nbformat": 4,
 "nbformat_minor": 2
}
