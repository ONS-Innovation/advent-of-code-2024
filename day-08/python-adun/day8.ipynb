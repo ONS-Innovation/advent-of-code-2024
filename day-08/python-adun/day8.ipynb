{
 "cells": [
  {
   "cell_type": "code",
   "execution_count": 33,
   "metadata": {},
   "outputs": [],
   "source": [
    "# open input.txt and read the lines into a list\n",
    "with open('input.txt', 'r') as file:\n",
    "    lines = file.readlines()\n",
    "\n",
    "# convert each line to a list of characters\n",
    "grid = [[char for char in line.strip()] for line in lines]\n",
    "\n",
    "N = len(grid)\n",
    "M = len(grid[0])"
   ]
  },
  {
   "cell_type": "code",
   "execution_count": 34,
   "metadata": {},
   "outputs": [],
   "source": [
    "antenna_map = {}\n",
    "for i, row in enumerate(grid):\n",
    "    for j, char in enumerate(row):\n",
    "        if char != '.':\n",
    "            antenna_map[char] = antenna_map.get(char, []) + [(i, j)]\n"
   ]
  },
  {
   "cell_type": "code",
   "execution_count": 35,
   "metadata": {},
   "outputs": [
    {
     "name": "stdout",
     "output_type": "stream",
     "text": [
      "364\n"
     ]
    }
   ],
   "source": [
    "def in_grid(x, y):\n",
    "    return 0 <= x < N and 0 <= y < M\n",
    "\n",
    "antinodes = set()\n",
    "\n",
    "for antenna in antenna_map.values():\n",
    "    # iterate over all pairs of antennas\n",
    "    for i in range(len(antenna)):\n",
    "        for j in range(len(antenna)):\n",
    "            if i == j:\n",
    "                continue\n",
    "            \n",
    "            pos1, pos2 = antenna[i], antenna[j]\n",
    "            # compute the distance between the two points\n",
    "            dx, dy = pos2[0] - pos1[0], pos2[1] - pos1[1]\n",
    "\n",
    "            # add a antinode at point\n",
    "            ax, ay = pos1[0] - dx, pos1[1] - dy\n",
    "\n",
    "            if in_grid(ax, ay):\n",
    "                antinodes.add((ax, ay))\n",
    "\n",
    "print(len(antinodes))"
   ]
  },
  {
   "cell_type": "markdown",
   "metadata": {},
   "source": [
    "# part 2"
   ]
  },
  {
   "cell_type": "code",
   "execution_count": 32,
   "metadata": {},
   "outputs": [
    {
     "name": "stdout",
     "output_type": "stream",
     "text": [
      "1231\n"
     ]
    }
   ],
   "source": [
    "def in_grid(x, y):\n",
    "    return 0 <= x < N and 0 <= y < M\n",
    "\n",
    "antinodes = set()\n",
    "\n",
    "for antenna in antenna_map.values():\n",
    "    # iterate over all pairs of antennas\n",
    "    for i in range(len(antenna)):\n",
    "        for j in range(len(antenna)):\n",
    "            if i == j:\n",
    "                continue\n",
    "            pos1, pos2 = antenna[i], antenna[j]\n",
    "            \n",
    "            # compute the distance between the two points\n",
    "            dx, dy = pos2[0] - pos1[0], pos2[1] - pos1[1]\n",
    "\n",
    "            ax, ay = pos1\n",
    "            while in_grid(ax, ay):\n",
    "                antinodes.add((ax, ay))\n",
    "\n",
    "                ax -= dx\n",
    "                ay -= dy\n",
    "\n",
    "print(len(antinodes))"
   ]
  },
  {
   "cell_type": "code",
   "execution_count": null,
   "metadata": {},
   "outputs": [],
   "source": []
  }
 ],
 "metadata": {
  "kernelspec": {
   "display_name": "iot",
   "language": "python",
   "name": "python3"
  },
  "language_info": {
   "codemirror_mode": {
    "name": "ipython",
    "version": 3
   },
   "file_extension": ".py",
   "mimetype": "text/x-python",
   "name": "python",
   "nbconvert_exporter": "python",
   "pygments_lexer": "ipython3",
   "version": "3.10.12"
  }
 },
 "nbformat": 4,
 "nbformat_minor": 2
}
