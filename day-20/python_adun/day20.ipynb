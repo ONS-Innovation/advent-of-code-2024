{
 "cells": [
  {
   "cell_type": "code",
   "execution_count": 1,
   "metadata": {},
   "outputs": [],
   "source": [
    "# read the input\n",
    "with open('input.txt', 'r') as f:\n",
    "    input = f.read().strip()\n",
    "\n",
    "lines = input.split('\\n')\n",
    "\n",
    "maze = [list(line) for line in lines]\n",
    "\n",
    "# find the start point with synbol 'S'\n",
    "start = None\n",
    "for i, row in enumerate(maze):\n",
    "    for j, cell in enumerate(row):\n",
    "        if cell == 'S':\n",
    "            start = (i, j)\n",
    "            #maze[i][j] = '.'\n",
    "            break"
   ]
  },
  {
   "cell_type": "code",
   "execution_count": 2,
   "metadata": {},
   "outputs": [],
   "source": [
    "N, M = len(maze), len(maze[0])\n",
    "\n",
    "def inbounds(pos):\n",
    "    return 0 <= pos[0] < N and 0 <= pos[1] < M\n",
    "\n",
    "dirs = {(0, 1), (0, -1), (1, 0), (-1, 0)}\n",
    "\n",
    "def get_neighbours(maze, pos):\n",
    "    neighbours = []\n",
    "    for dir in dirs:\n",
    "        new_pos =  pos[0] + dir[0], pos[1] + dir[1]\n",
    "\n",
    "        if maze[new_pos[0]][new_pos[1]] != '#':\n",
    "            neighbours.append(new_pos)\n",
    "\n",
    "    return neighbours\n",
    "\n",
    "def get_two_step_neighbours(maze, pos):\n",
    "    neighbours = []\n",
    "    two_step_dirs = [(0, 2), (0, -2), (2, 0), (-2, 0), (1, 1), (1, -1), (-1, 1), (-1, -1)]\n",
    "    for dir in two_step_dirs:\n",
    "            new_pos =  pos[0] + dir[0], pos[1] + dir[1]\n",
    "\n",
    "            if inbounds(new_pos) and maze[new_pos[0]][new_pos[1]] != '#':\n",
    "                neighbours.append(new_pos)\n",
    "\n",
    "    return neighbours"
   ]
  },
  {
   "cell_type": "code",
   "execution_count": 3,
   "metadata": {},
   "outputs": [],
   "source": [
    "def bfs(maze, start):\n",
    "    distances = {start: 0}\n",
    "    queue = [(0, start)]\n",
    "    path = []\n",
    "    \n",
    "    while queue:\n",
    "        dist, pos = queue.pop(0)\n",
    "        \n",
    "        path.append(pos)\n",
    "            \n",
    "        for next_pos in get_neighbours(maze, pos):\n",
    "            if next_pos not in distances:\n",
    "                distances[next_pos] = dist + 1\n",
    "                queue.append((dist + 1, next_pos))\n",
    "                \n",
    "    return distances, path"
   ]
  },
  {
   "cell_type": "code",
   "execution_count": 4,
   "metadata": {},
   "outputs": [],
   "source": [
    "dists, path = bfs(maze, start)"
   ]
  },
  {
   "cell_type": "code",
   "execution_count": 5,
   "metadata": {},
   "outputs": [],
   "source": [
    "def find_tricks_part1(path, dists):\n",
    "    num_tricks = 0\n",
    "    for pos in path[::-1]:\n",
    "        neighbours = get_two_step_neighbours(maze, pos)\n",
    "        for neighbour in neighbours:\n",
    "            new_cost = dists[pos] - dists[neighbour]-2\n",
    "            if new_cost >= 100:\n",
    "                num_tricks +=1\n",
    "\n",
    "    return num_tricks\n"
   ]
  },
  {
   "cell_type": "code",
   "execution_count": 6,
   "metadata": {},
   "outputs": [
    {
     "data": {
      "text/plain": [
       "1365"
      ]
     },
     "execution_count": 6,
     "metadata": {},
     "output_type": "execute_result"
    }
   ],
   "source": [
    "find_tricks_part1(path, dists)"
   ]
  },
  {
   "cell_type": "markdown",
   "metadata": {},
   "source": [
    "# Part 2"
   ]
  },
  {
   "cell_type": "code",
   "execution_count": 7,
   "metadata": {},
   "outputs": [],
   "source": [
    "def find_tricks_part2(path, dists, max_delta):\n",
    "    path_rev = path[::-1]\n",
    "    num_tricks = 0\n",
    "    for i in range(len(path_rev)):\n",
    "        for j in range(i+1, len(path_rev)):\n",
    "            pos1, pos2 = path_rev[i], path_rev[j]\n",
    "            delta = abs(pos1[0]-pos2[0]) + abs(pos1[1]-pos2[1])\n",
    "            if delta <= max_delta:\n",
    "                new_cost = dists[pos1] - dists[pos2]-delta\n",
    "                if new_cost >= 100:\n",
    "                    num_tricks +=1\n",
    "\n",
    "    return num_tricks\n"
   ]
  },
  {
   "cell_type": "code",
   "execution_count": 8,
   "metadata": {},
   "outputs": [
    {
     "data": {
      "text/plain": [
       "986082"
      ]
     },
     "execution_count": 8,
     "metadata": {},
     "output_type": "execute_result"
    }
   ],
   "source": [
    "find_tricks_part2(path, dists, 20)"
   ]
  }
 ],
 "metadata": {
  "kernelspec": {
   "display_name": "iot",
   "language": "python",
   "name": "python3"
  },
  "language_info": {
   "codemirror_mode": {
    "name": "ipython",
    "version": 3
   },
   "file_extension": ".py",
   "mimetype": "text/x-python",
   "name": "python",
   "nbconvert_exporter": "python",
   "pygments_lexer": "ipython3",
   "version": "3.10.12"
  }
 },
 "nbformat": 4,
 "nbformat_minor": 2
}
