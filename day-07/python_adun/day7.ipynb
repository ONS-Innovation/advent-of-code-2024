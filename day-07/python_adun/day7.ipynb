{
 "cells": [
  {
   "cell_type": "code",
   "execution_count": 11,
   "metadata": {},
   "outputs": [],
   "source": [
    "import operator\n",
    "from functools import reduce\n",
    "\n",
    "# read the file\n",
    "with open('input.txt', 'r') as file:\n",
    "    data = file.readlines()"
   ]
  },
  {
   "cell_type": "code",
   "execution_count": 12,
   "metadata": {},
   "outputs": [],
   "source": [
    "equations  = []\n",
    "\n",
    "# split each line by colon\n",
    "for line in data:\n",
    "    l = line.split(':')\n",
    "    equation = tuple((int(l[0]), [int(x) for x in l[1].strip().split(' ')]))\n",
    "    equations.append(equation)"
   ]
  },
  {
   "cell_type": "markdown",
   "metadata": {},
   "source": [
    "# Part 1"
   ]
  },
  {
   "cell_type": "code",
   "execution_count": 32,
   "metadata": {},
   "outputs": [],
   "source": [
    "def resolve_equation(equation, ops):\n",
    "    rhs = equation[1]\n",
    "    lhs = equation[0]\n",
    "\n",
    "    if len(rhs) == 1:\n",
    "        return lhs == rhs[0]\n",
    "    \n",
    "    return any([resolve_equation((lhs, [reduce(op, rhs[:2])] + rhs[2:]), ops) for op in ops])"
   ]
  },
  {
   "cell_type": "code",
   "execution_count": 33,
   "metadata": {},
   "outputs": [
    {
     "name": "stdout",
     "output_type": "stream",
     "text": [
      "14711933466277\n"
     ]
    }
   ],
   "source": [
    "ops = [operator.add, operator.mul]\n",
    "\n",
    "# get the first value of the equation for each consistent equation\n",
    "consistent_values = [equation[0] for equation in equations if resolve_equation(equation, ops)]\n",
    "\n",
    "print(sum(consistent_values))"
   ]
  },
  {
   "cell_type": "markdown",
   "metadata": {},
   "source": [
    "# Part 2"
   ]
  },
  {
   "cell_type": "code",
   "execution_count": 34,
   "metadata": {},
   "outputs": [
    {
     "name": "stdout",
     "output_type": "stream",
     "text": [
      "286580387663654\n"
     ]
    }
   ],
   "source": [
    "def concat(a, b):\n",
    "    return int(str(a) + str(b))\n",
    "\n",
    "ops = [operator.add, operator.mul, concat]\n",
    "\n",
    "# get the first value of the equation for each consistent equation\n",
    "consistent_values = [equation[0] for equation in equations if resolve_equation(equation, ops)]\n",
    "\n",
    "print(sum(consistent_values))"
   ]
  }
 ],
 "metadata": {
  "kernelspec": {
   "display_name": "iot",
   "language": "python",
   "name": "python3"
  },
  "language_info": {
   "codemirror_mode": {
    "name": "ipython",
    "version": 3
   },
   "file_extension": ".py",
   "mimetype": "text/x-python",
   "name": "python",
   "nbconvert_exporter": "python",
   "pygments_lexer": "ipython3",
   "version": "3.10.12"
  }
 },
 "nbformat": 4,
 "nbformat_minor": 2
}
