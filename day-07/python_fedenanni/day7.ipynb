{
 "cells": [
  {
   "cell_type": "code",
   "execution_count": 1,
   "metadata": {},
   "outputs": [],
   "source": [
    "input = open(\"input.txt\", \"r\").read().strip().split(\"\\n\")\n",
    "input = [x.split(\":\") for x in input]\n",
    "input = [(int(x[0]), [int(y) for y in x[1].strip().split(\" \")]) for x in input]\n",
    "\n",
    "def test_operations(line, concatenation=False):\n",
    "    numbers = line[1]\n",
    "    expected_result = line[0]\n",
    "    if sum(numbers) == expected_result:\n",
    "        return True\n",
    "\n",
    "    operation = \"*\".join([str(x) for x in numbers])\n",
    "    result = eval(operation)\n",
    "\n",
    "    if expected_result == result:\n",
    "        return True\n",
    "\n",
    "    scenarios = [numbers[0]+numbers[1], numbers[0]*numbers[1]]\n",
    "    if concatenation:\n",
    "        scenarios.append(int(str(numbers[0]) + str(numbers[1])))\n",
    "    for i in range(2, len(numbers)):\n",
    "        new_scenarios = []\n",
    "        for s in scenarios:\n",
    "            if s + numbers[i] <= expected_result:\n",
    "                new_scenarios.append(s + numbers[i])\n",
    "            if s * numbers[i] <= expected_result:\n",
    "                new_scenarios.append(s * numbers[i])\n",
    "            if concatenation:\n",
    "                if int(str(s) + str(numbers[i])) <= expected_result:\n",
    "                    new_scenarios.append(int(str(s) + str(numbers[i])))\n",
    "        scenarios = new_scenarios\n",
    "    if expected_result in scenarios:\n",
    "        return True\n"
   ]
  },
  {
   "cell_type": "code",
   "execution_count": null,
   "metadata": {},
   "outputs": [
    {
     "name": "stdout",
     "output_type": "stream",
     "text": [
      "1708857123053\n"
     ]
    }
   ],
   "source": [
    "# Part 1\n",
    "\n",
    "tot = 0\n",
    "unmatched = []\n",
    "\n",
    "for line in input:\n",
    "    if test_operations(line):\n",
    "        tot += line[0]\n",
    "    else:\n",
    "        unmatched.append(line)\n",
    "print(tot)"
   ]
  },
  {
   "cell_type": "code",
   "execution_count": null,
   "metadata": {},
   "outputs": [
    {
     "name": "stdout",
     "output_type": "stream",
     "text": [
      "189207836795655\n"
     ]
    }
   ],
   "source": [
    "# Part 2\n",
    "for line in unmatched:\n",
    "    if test_operations(line, concatenation=True):\n",
    "        tot += line[0]\n",
    "print(tot)"
   ]
  }
 ],
 "metadata": {
  "kernelspec": {
   "display_name": ".venv",
   "language": "python",
   "name": "python3"
  },
  "language_info": {
   "codemirror_mode": {
    "name": "ipython",
    "version": 3
   },
   "file_extension": ".py",
   "mimetype": "text/x-python",
   "name": "python",
   "nbconvert_exporter": "python",
   "pygments_lexer": "ipython3",
   "version": "3.9.7"
  }
 },
 "nbformat": 4,
 "nbformat_minor": 2
}
