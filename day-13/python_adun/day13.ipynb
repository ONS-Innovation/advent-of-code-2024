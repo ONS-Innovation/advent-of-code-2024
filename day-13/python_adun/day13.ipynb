{
 "cells": [
  {
   "cell_type": "code",
   "execution_count": null,
   "metadata": {},
   "outputs": [],
   "source": [
    "# open the file input.txt\n",
    "with open('input.txt', 'r') as file:\n",
    "    # read the file\n",
    "    data = file.read()\n",
    "\n",
    "# split the data into lines\n",
    "lines = data.split('\\n')"
   ]
  },
  {
   "cell_type": "code",
   "execution_count": 105,
   "metadata": {},
   "outputs": [],
   "source": [
    "def extract_deltas(line):\n",
    "    x_val = int(line.split('X+')[1].split(',')[0])\n",
    "    y_val = int(line.split('Y+')[1])\n",
    "    return x_val, y_val\n",
    "\n",
    "def extract_prize(line):\n",
    "    x_val = int(line.split('X=')[1].split(',')[0])\n",
    "    y_val = int(line.split('Y=')[1])\n",
    "    return x_val, y_val\n"
   ]
  },
  {
   "cell_type": "code",
   "execution_count": 125,
   "metadata": {},
   "outputs": [],
   "source": [
    "def compute_tokens(lines, correction=0):\n",
    "    num_entries = len(lines)//4\n",
    "    tokens = 0\n",
    "    for i in range(num_entries):\n",
    "\n",
    "        # Extract numbers after X+ and Y+ from string like \"Button A: X+42, Y+24\"\n",
    "        A_dx, A_dy = extract_deltas(lines[i*4])\n",
    "        B_dx, B_dy = extract_deltas(lines[i*4+1])\n",
    "\n",
    "        # Extract numbers after X= and Y= from string like \"Prize X=18849, Y=8875\"\n",
    "        prize_x, prize_y = extract_prize(lines[i*4+2])\n",
    "        prize_x, prize_y = prize_x+correction, prize_y+correction\n",
    "\n",
    "        numerator = prize_x*A_dy - prize_y*A_dx\n",
    "        denominator = A_dy*B_dx - A_dx*B_dy\n",
    "\n",
    "        # assuming denominator is not 0 (in case we have much bigger problems) the problem can only have at most one solution\n",
    "        if numerator % denominator == 0:\n",
    "            beta = numerator // denominator\n",
    "\n",
    "            # this condition is needed.\n",
    "            if (prize_x - beta*B_dx) % A_dx == 0:\n",
    "                alpha = (prize_x - beta*B_dx) // A_dx\n",
    "                tokens += 3*alpha + beta\n",
    "\n",
    "    return tokens"
   ]
  },
  {
   "cell_type": "code",
   "execution_count": 126,
   "metadata": {},
   "outputs": [
    {
     "data": {
      "text/plain": [
       "37680"
      ]
     },
     "execution_count": 126,
     "metadata": {},
     "output_type": "execute_result"
    }
   ],
   "source": [
    "compute_tokens(lines, 0)"
   ]
  },
  {
   "cell_type": "code",
   "execution_count": 127,
   "metadata": {},
   "outputs": [
    {
     "data": {
      "text/plain": [
       "87550094242995"
      ]
     },
     "execution_count": 127,
     "metadata": {},
     "output_type": "execute_result"
    }
   ],
   "source": [
    "compute_tokens(lines, 10000000000000)"
   ]
  }
 ],
 "metadata": {
  "kernelspec": {
   "display_name": "iot",
   "language": "python",
   "name": "python3"
  },
  "language_info": {
   "codemirror_mode": {
    "name": "ipython",
    "version": 3
   },
   "file_extension": ".py",
   "mimetype": "text/x-python",
   "name": "python",
   "nbconvert_exporter": "python",
   "pygments_lexer": "ipython3",
   "version": "3.10.12"
  }
 },
 "nbformat": 4,
 "nbformat_minor": 2
}
