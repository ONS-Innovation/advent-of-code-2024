{
 "cells": [
  {
   "cell_type": "code",
   "execution_count": null,
   "metadata": {},
   "outputs": [
    {
     "name": "stdout",
     "output_type": "stream",
     "text": [
      "37297\n"
     ]
    }
   ],
   "source": [
    "input = open('input.txt', 'r').read().strip().split('\\n')\n",
    "\n",
    "tot = 0\n",
    "\n",
    "for i in range(0, len(input), 4):\n",
    "    ax, ay = int(input[i].split(\":\")[1].split(\",\")[0].split(\"+\")[1].strip()), int(input[i].split(\":\")[1].split(\",\")[1].split(\"+\")[1].strip())\n",
    "    bx, by = int(input[i+1].split(\":\")[1].split(\",\")[0].split(\"+\")[1].strip()), int(input[i+1].split(\":\")[1].split(\",\")[1].split(\"+\")[1].strip())\n",
    "    prize_x, prize_y = int(input[i+2].split(\":\")[1].split(\",\")[0].split(\"=\")[1].strip()), int(input[i+2].split(\":\")[1].split(\",\")[1].split(\"=\")[1].strip()) \n",
    "    results = []\n",
    "    a = 0\n",
    "    b = 0\n",
    "    a = 0\n",
    "    # BRUTALISM\n",
    "    while a <= max(prize_x, prize_y):\n",
    "        a += 1\n",
    "        b = 0\n",
    "        while b <= max(prize_x, prize_y):\n",
    "            if ax*a + bx*b > prize_x or ay*a + by*b > prize_y:\n",
    "                break\n",
    "            if ax*a + bx*b == prize_x and ay*a + by*b == prize_y:\n",
    "                results.append([a, b])\n",
    "                break\n",
    "            b += 1\n",
    "    cheapest = None\n",
    "    for res in results:\n",
    "        cost = res[0]*3 + res[1]*1\n",
    "        if cheapest == None or cost < cheapest:\n",
    "            cheapest = cost\n",
    "    if cheapest == None:\n",
    "        cheapest = 0\n",
    "    tot += cheapest\n",
    "print(tot)"
   ]
  },
  {
   "cell_type": "code",
   "execution_count": null,
   "metadata": {},
   "outputs": [],
   "source": [
    "# A bit of me and a bit of chatGPT\n",
    "\n",
    "def solve_linear_equations(a1, b1, c1, a2, b2, c2):\n",
    "\n",
    "    new_a1 = a1 * b2\n",
    "    new_c1 = c1 * b2\n",
    "\n",
    "    new_a2 = a2 * b1\n",
    "    new_c2 = c2 * b1\n",
    "\n",
    "    final_a = new_a1 - new_a2\n",
    "    final_c = new_c1 - new_c2\n",
    "\n",
    "    x = final_c / final_a\n",
    "\n",
    "    y = (c1 - a1 * x) / b1\n",
    "\n",
    "    if x.is_integer() and y.is_integer():\n",
    "        return int(x), int(y)\n",
    "    else:\n",
    "        return None, None"
   ]
  },
  {
   "cell_type": "code",
   "execution_count": 5,
   "metadata": {},
   "outputs": [
    {
     "name": "stdout",
     "output_type": "stream",
     "text": [
      "83197086729371\n"
     ]
    }
   ],
   "source": [
    "input = open('input.txt', 'r').read().strip().split('\\n')\n",
    "\n",
    "tot = 0\n",
    "\n",
    "for i in range(0, len(input), 4):\n",
    "    ax, ay = int(input[i].split(\":\")[1].split(\",\")[0].split(\"+\")[1].strip()), int(input[i].split(\":\")[1].split(\",\")[1].split(\"+\")[1].strip())\n",
    "    bx, by = int(input[i+1].split(\":\")[1].split(\",\")[0].split(\"+\")[1].strip()), int(input[i+1].split(\":\")[1].split(\",\")[1].split(\"+\")[1].strip())\n",
    "    prize_x, prize_y = 10000000000000 + int(input[i+2].split(\":\")[1].split(\",\")[0].split(\"=\")[1].strip()), 10000000000000 + int(input[i+2].split(\":\")[1].split(\",\")[1].split(\"=\")[1].strip()) \n",
    "\n",
    "    x, y = solve_linear_equations(ax, bx, prize_x, ay, by, prize_y)\n",
    "    if x == None:\n",
    "        x = 0 \n",
    "        y = 0\n",
    "    tot += 3*x + y    \n",
    "print(tot)"
   ]
  }
 ],
 "metadata": {
  "kernelspec": {
   "display_name": ".venv",
   "language": "python",
   "name": "python3"
  },
  "language_info": {
   "codemirror_mode": {
    "name": "ipython",
    "version": 3
   },
   "file_extension": ".py",
   "mimetype": "text/x-python",
   "name": "python",
   "nbconvert_exporter": "python",
   "pygments_lexer": "ipython3",
   "version": "3.9.7"
  }
 },
 "nbformat": 4,
 "nbformat_minor": 2
}
