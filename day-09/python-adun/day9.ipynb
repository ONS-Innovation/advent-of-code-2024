{
 "cells": [
  {
   "cell_type": "code",
   "execution_count": 246,
   "metadata": {},
   "outputs": [
    {
     "name": "stdout",
     "output_type": "stream",
     "text": [
      "19999\n"
     ]
    }
   ],
   "source": [
    "# read input\n",
    "with open('input.txt', 'r') as file:\n",
    "    data = file.read()\n",
    "    data = data.strip()\n",
    "\n",
    "# parse input\n",
    "\n",
    "print(len(data))\n"
   ]
  },
  {
   "cell_type": "code",
   "execution_count": 247,
   "metadata": {},
   "outputs": [],
   "source": [
    "# convert input from compact to expanded\n",
    "\n",
    "def read_disk_map(data):\n",
    "    id = 0\n",
    "    index = 0\n",
    "    disk_map = []\n",
    "    block_disk_map = []\n",
    "    position = 0\n",
    "\n",
    "    block_state = True\n",
    "    for index in range(len(data)):\n",
    "        if block_state:\n",
    "            token = id\n",
    "            id += 1\n",
    "            block_state = False\n",
    "        else:\n",
    "            token = -1\n",
    "            block_state = True\n",
    "\n",
    "        disk_map += [token]*int(data[index])\n",
    "        block_disk_map.append(([token, int(data[index]), position]))\n",
    "        position += int(data[index])\n",
    "      \n",
    "\n",
    "    return disk_map, block_disk_map\n",
    "\n",
    "\n",
    "disk_map, block_disk_map = read_disk_map(data)"
   ]
  },
  {
   "cell_type": "code",
   "execution_count": 248,
   "metadata": {},
   "outputs": [
    {
     "name": "stdout",
     "output_type": "stream",
     "text": [
      "6519155389266\n"
     ]
    }
   ],
   "source": [
    "# index locations of negative values\n",
    "negative_indices = [i for i, x in enumerate(disk_map) if x == -1]\n",
    "positive_indices = [i for i, x in enumerate(disk_map) if x >= 0]\n",
    "\n",
    "i = 0\n",
    "\n",
    "while True:\n",
    "    first_negative_index = negative_indices[i]\n",
    "    last_positive_index = positive_indices[-(i+1)]\n",
    "\n",
    "    if first_negative_index > last_positive_index:\n",
    "        break\n",
    "\n",
    "    disk_map[first_negative_index] = disk_map[last_positive_index]\n",
    "    disk_map[last_positive_index] = -1\n",
    "\n",
    "    i += 1\n",
    "\n",
    "\n",
    "# compute the checksum\n",
    "checksum = 0\n",
    "for i in range(len(disk_map)):\n",
    "    if disk_map[i] >= 0:\n",
    "        checksum += disk_map[i]*i\n",
    "\n",
    "print(checksum)\n",
    "\n"
   ]
  },
  {
   "cell_type": "markdown",
   "metadata": {},
   "source": [
    "# part 2"
   ]
  },
  {
   "cell_type": "code",
   "execution_count": 249,
   "metadata": {},
   "outputs": [
    {
     "name": "stdout",
     "output_type": "stream",
     "text": [
      "6547228115826\n"
     ]
    }
   ],
   "source": [
    "# index locations of blocks\n",
    "positive_block_indices = [i for i, x in enumerate(block_disk_map) if x[0] >= 0]\n",
    "\n",
    "for positive_block_index in reversed(positive_block_indices):\n",
    "    for neg_block_index in range(positive_block_index): \n",
    "        if block_disk_map[neg_block_index][0] == -1:\n",
    "            \n",
    "            diff = block_disk_map[neg_block_index][1] - block_disk_map[positive_block_index][1]\n",
    "            if diff >= 0:\n",
    "                block_disk_map[neg_block_index][1] = diff\n",
    "                block_disk_map[positive_block_index][2] = block_disk_map[neg_block_index][2]\n",
    "                block_disk_map[neg_block_index][2] += block_disk_map[positive_block_index][1]\n",
    "\n",
    "                break\n",
    "\n",
    "\n",
    "\n",
    "# compute the checksum\n",
    "checksum = 0\n",
    "for block in block_disk_map:\n",
    "    if block[0] >= 0:\n",
    "        checksum += block[0]*(block[1]*block[2] + ((block[1]-1)*block[1])//2)\n",
    "\n",
    "print(checksum)\n",
    "\n"
   ]
  }
 ],
 "metadata": {
  "kernelspec": {
   "display_name": "iot",
   "language": "python",
   "name": "python3"
  },
  "language_info": {
   "codemirror_mode": {
    "name": "ipython",
    "version": 3
   },
   "file_extension": ".py",
   "mimetype": "text/x-python",
   "name": "python",
   "nbconvert_exporter": "python",
   "pygments_lexer": "ipython3",
   "version": "3.10.12"
  }
 },
 "nbformat": 4,
 "nbformat_minor": 2
}
