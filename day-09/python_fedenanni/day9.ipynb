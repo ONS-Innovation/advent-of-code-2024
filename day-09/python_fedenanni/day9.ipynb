{
 "cells": [
  {
   "cell_type": "markdown",
   "metadata": {},
   "source": [
    "# Part 1"
   ]
  },
  {
   "cell_type": "code",
   "execution_count": 1,
   "metadata": {},
   "outputs": [],
   "source": [
    "input = list(open('input.txt', 'r').read().strip())\n",
    "input = [int(x) for x in input]\n",
    "pos = 0\n",
    "file_id = 0\n",
    "seq = []\n",
    "while pos < len(input):\n",
    "    file_spec = input[pos]\n",
    "    try:\n",
    "        free_space = input[pos + 1]\n",
    "    except IndexError:\n",
    "        free_space = 0\n",
    "    for i in range(file_spec):\n",
    "        seq.append(file_id)\n",
    "    for i in range(free_space):\n",
    "        seq.append(\".\")\n",
    "    pos += 2\n",
    "    file_id += 1\n",
    "\n",
    "def find_last_number_pos(seq):\n",
    "    return next((i for i in range(len(seq) - 1, -1, -1) if seq[i] != '.'), -1)\n",
    "\n",
    "def find_first_dot_pos(seq):\n",
    "    return next((i for i, x in enumerate(seq) if x == '.'), -1)\n",
    "\n",
    "last_number_pos = find_last_number_pos(seq)\n",
    "first_dot_pos = find_first_dot_pos(seq)\n",
    "\n",
    "while not first_dot_pos == last_number_pos+1:\n",
    "    last_number = seq[last_number_pos]\n",
    "    seq[first_dot_pos] = last_number\n",
    "    seq[last_number_pos] = '.'\n",
    "    last_number_pos = find_last_number_pos(seq)\n",
    "    first_dot_pos = find_first_dot_pos(seq)"
   ]
  },
  {
   "cell_type": "code",
   "execution_count": 2,
   "metadata": {},
   "outputs": [
    {
     "name": "stdout",
     "output_type": "stream",
     "text": [
      "6225730762521\n"
     ]
    }
   ],
   "source": [
    "tot = 0\n",
    "for i in range(len(seq)):\n",
    "    if seq[i] == \".\":\n",
    "        continue\n",
    "    tot += seq[i] * i\n",
    "print (tot)"
   ]
  },
  {
   "cell_type": "markdown",
   "metadata": {},
   "source": [
    "# Part 2"
   ]
  },
  {
   "cell_type": "code",
   "execution_count": 3,
   "metadata": {},
   "outputs": [
    {
     "name": "stdout",
     "output_type": "stream",
     "text": [
      "6270091051197\n"
     ]
    }
   ],
   "source": [
    "input = list(open('input.txt', 'r').read().strip())\n",
    "input = [int(x) for x in input]\n",
    "pos = 0\n",
    "file_id = 0\n",
    "seq = []\n",
    "id_pos_len = {}\n",
    "while pos < len(input):\n",
    "    file_spec = input[pos]\n",
    "    try:\n",
    "        free_space = input[pos + 1]\n",
    "    except IndexError:\n",
    "        free_space = 0\n",
    "    id_pos_len[len(seq)] = file_spec\n",
    "    for i in range(file_spec):\n",
    "        seq.append(file_id)\n",
    "    for i in range(free_space):\n",
    "        seq.append(\".\")\n",
    "    \n",
    "    pos += 2\n",
    "    file_id += 1\n",
    "\n",
    "def get_dot_pos_len(seq):\n",
    "    dot_pos_len = {}\n",
    "    _id = None\n",
    "    for i in range(len(seq)):\n",
    "        if seq[i] == \".\":\n",
    "            if _id is None:\n",
    "                _id = i\n",
    "                dot_pos_len[_id] = 1\n",
    "            else:\n",
    "                dot_pos_len[_id] += 1\n",
    "        else:\n",
    "            _id = None\n",
    "    return dot_pos_len\n",
    "\n",
    "id_pos_len = dict(sorted(id_pos_len.items(), key=lambda item: item[0], reverse=True))\n",
    "\n",
    "def modify_seq(dot_pos_len, el,el_len, seq):\n",
    "    label = seq[el]\n",
    "    for dot, dot_len in dot_pos_len.items():\n",
    "        if el > dot and el_len <= dot_len:\n",
    "            for i in range(el_len):\n",
    "                seq[dot + i] = label\n",
    "                seq[el+i] = \".\"\n",
    "            return seq, None\n",
    "    return seq, el_len\n",
    "\n",
    "dot_pos_len = get_dot_pos_len(seq)\n",
    "max_len = None\n",
    "for el,el_len in id_pos_len.items():\n",
    "    dot_pos_len = get_dot_pos_len(seq)\n",
    "    if max_len is None:\n",
    "        seq, max_len = modify_seq(dot_pos_len, el,el_len, seq)\n",
    "    else:\n",
    "        continue\n",
    "                \n",
    "\n",
    "tot = 0\n",
    "for i in range(len(seq)):\n",
    "    if seq[i] == \".\":\n",
    "        continue\n",
    "    tot += seq[i] * i\n",
    "print (tot)          "
   ]
  }
 ],
 "metadata": {
  "kernelspec": {
   "display_name": ".venv",
   "language": "python",
   "name": "python3"
  },
  "language_info": {
   "codemirror_mode": {
    "name": "ipython",
    "version": 3
   },
   "file_extension": ".py",
   "mimetype": "text/x-python",
   "name": "python",
   "nbconvert_exporter": "python",
   "pygments_lexer": "ipython3",
   "version": "3.9.7"
  }
 },
 "nbformat": 4,
 "nbformat_minor": 2
}
