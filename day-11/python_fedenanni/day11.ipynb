{
 "cells": [
  {
   "cell_type": "code",
   "execution_count": 27,
   "metadata": {},
   "outputs": [],
   "source": [
    "def modify_el(el):\n",
    "    if el == '0':\n",
    "       return '1'\n",
    "    if len(el) % 2 == 0:\n",
    "        fist_half = str(int(el[:len(el)//2]))\n",
    "        second_half = str(int(el[len(el)//2:]))\n",
    "        return [fist_half, second_half]\n",
    "    else:\n",
    "        return str(int(el) *2024)\n",
    "\n",
    "def do_iterations_dict(dict):\n",
    "    new_dict = {}\n",
    "    for k,v in dict.items():\n",
    "        new_k = modify_el(k)\n",
    "        if type(new_k) == list:\n",
    "            for l in new_k:\n",
    "                if l not in new_dict:\n",
    "                    new_dict[l] = v\n",
    "                else:\n",
    "                    new_dict[l]+=v\n",
    "        else:\n",
    "            if new_k not in new_dict:\n",
    "                new_dict[new_k] = v\n",
    "            else:\n",
    "                new_dict[new_k]+=v\n",
    "    return new_dict"
   ]
  },
  {
   "cell_type": "code",
   "execution_count": 31,
   "metadata": {},
   "outputs": [
    {
     "name": "stdout",
     "output_type": "stream",
     "text": [
      "194782\n"
     ]
    }
   ],
   "source": [
    "input = open(\"input.txt\", \"r\").read().strip()\n",
    "input = input.split(\" \")\n",
    "\n",
    "input = {x:1 for x in input}\n",
    "\n",
    "tot_loops = 25\n",
    "\n",
    "for i in range(tot_loops):\n",
    "    input = do_iterations_dict(input)\n",
    "tot = sum([value for key, value in input.items()])\n",
    "print (tot)"
   ]
  },
  {
   "cell_type": "code",
   "execution_count": 33,
   "metadata": {},
   "outputs": [
    {
     "name": "stdout",
     "output_type": "stream",
     "text": [
      "233007586663131\n"
     ]
    }
   ],
   "source": [
    "input = open(\"input.txt\", \"r\").read().strip()\n",
    "input = input.split(\" \")\n",
    "\n",
    "input = {x:1 for x in input}\n",
    "\n",
    "tot_loops = 75\n",
    "\n",
    "for i in range(tot_loops):\n",
    "    input = do_iterations_dict(input)\n",
    "tot = sum([value for key, value in input.items()])\n",
    "print (tot)"
   ]
  }
 ],
 "metadata": {
  "kernelspec": {
   "display_name": "py10",
   "language": "python",
   "name": "python3"
  },
  "language_info": {
   "codemirror_mode": {
    "name": "ipython",
    "version": 3
   },
   "file_extension": ".py",
   "mimetype": "text/x-python",
   "name": "python",
   "nbconvert_exporter": "python",
   "pygments_lexer": "ipython3",
   "version": "3.10.16"
  }
 },
 "nbformat": 4,
 "nbformat_minor": 2
}
