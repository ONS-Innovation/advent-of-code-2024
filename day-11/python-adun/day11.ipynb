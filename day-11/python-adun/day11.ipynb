{
 "cells": [
  {
   "cell_type": "code",
   "execution_count": 2,
   "metadata": {},
   "outputs": [],
   "source": [
    "# open the file input.txt\n",
    "with open('input.txt', 'r') as file:\n",
    "    # read the file\n",
    "    data = file.read().strip()\n",
    "\n",
    "data = data.split(' ')\n",
    "\n",
    "line = [int(i) for i in data]"
   ]
  },
  {
   "cell_type": "code",
   "execution_count": 11,
   "metadata": {},
   "outputs": [],
   "source": [
    "# function which checks whether there are an even number of digits\n",
    "def count_num_digits(number):\n",
    "    return len(str(number))\n"
   ]
  },
  {
   "cell_type": "code",
   "execution_count": 15,
   "metadata": {},
   "outputs": [],
   "source": [
    "cache = {}\n",
    "\n",
    "def apply_rewrite_rule(number, num_times):\n",
    "    if (number, num_times) in cache:\n",
    "        return cache[(number, num_times)]\n",
    "    \n",
    "    if num_times == 0:\n",
    "        return 1\n",
    "    else:\n",
    "        if number == 0:\n",
    "            cnt =  apply_rewrite_rule(1, num_times - 1)\n",
    "        else:\n",
    "            num_digits = count_num_digits(number)\n",
    "            if num_digits % 2 == 0:\n",
    "                n1 = int(str(number)[:num_digits//2])\n",
    "                n2 = int(str(number)[num_digits//2:])\n",
    "                cnt =  apply_rewrite_rule(n1, num_times - 1) + apply_rewrite_rule(n2, num_times - 1)\n",
    "            else:\n",
    "                cnt =  apply_rewrite_rule(2024*number, num_times - 1)\n",
    "\n",
    "        cache[(number, num_times)] = cnt\n",
    "        return cnt"
   ]
  },
  {
   "cell_type": "code",
   "execution_count": 17,
   "metadata": {},
   "outputs": [
    {
     "data": {
      "text/plain": [
       "187738"
      ]
     },
     "execution_count": 17,
     "metadata": {},
     "output_type": "execute_result"
    }
   ],
   "source": [
    "sum([apply_rewrite_rule(i, 25) for i in line])"
   ]
  },
  {
   "cell_type": "code",
   "execution_count": 16,
   "metadata": {},
   "outputs": [
    {
     "data": {
      "text/plain": [
       "223767210249237"
      ]
     },
     "execution_count": 16,
     "metadata": {},
     "output_type": "execute_result"
    }
   ],
   "source": [
    "sum([apply_rewrite_rule(i, 75) for i in line])"
   ]
  },
  {
   "cell_type": "code",
   "execution_count": null,
   "metadata": {},
   "outputs": [],
   "source": []
  }
 ],
 "metadata": {
  "kernelspec": {
   "display_name": "iot",
   "language": "python",
   "name": "python3"
  },
  "language_info": {
   "codemirror_mode": {
    "name": "ipython",
    "version": 3
   },
   "file_extension": ".py",
   "mimetype": "text/x-python",
   "name": "python",
   "nbconvert_exporter": "python",
   "pygments_lexer": "ipython3",
   "version": "3.10.12"
  }
 },
 "nbformat": 4,
 "nbformat_minor": 2
}
