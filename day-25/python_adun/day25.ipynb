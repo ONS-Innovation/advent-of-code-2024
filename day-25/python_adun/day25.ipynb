{
 "cells": [
  {
   "cell_type": "code",
   "execution_count": 50,
   "metadata": {},
   "outputs": [],
   "source": [
    "# open input.txt\n",
    "with open('input.txt', 'r') as file:\n",
    "    data = file.read()\n",
    "\n",
    "# split data into lines\n",
    "lines = data.split('\\n')\n",
    "\n",
    "# split the lines into 8 row chunks\n",
    "chunks = [lines[i:i+7] for i in range(0, len(lines), 8)]"
   ]
  },
  {
   "cell_type": "code",
   "execution_count": 51,
   "metadata": {},
   "outputs": [],
   "source": [
    "def get_height(chunk):\n",
    "    height = [sum([2**i for i in range(len(chunk)) if chunk[i][j] == '#']) for j in range(5)]\n",
    "    return height"
   ]
  },
  {
   "cell_type": "code",
   "execution_count": 52,
   "metadata": {},
   "outputs": [],
   "source": [
    "def count_pairs(heights):\n",
    "    ctr = 0\n",
    "    for i in range(len(heights)):\n",
    "        for j in range(i+1,len(heights)):\n",
    "            if all(heights[i][k] & heights[j][k] == 0 for k in range(5)):\n",
    "                ctr += 1\n",
    "    return ctr"
   ]
  },
  {
   "cell_type": "code",
   "execution_count": 53,
   "metadata": {},
   "outputs": [
    {
     "name": "stdout",
     "output_type": "stream",
     "text": [
      "2993\n"
     ]
    }
   ],
   "source": [
    "heights = [get_height(chunk) for chunk in chunks]\n",
    "print(count_pairs(heights))"
   ]
  }
 ],
 "metadata": {
  "kernelspec": {
   "display_name": "pymc_env",
   "language": "python",
   "name": "python3"
  },
  "language_info": {
   "codemirror_mode": {
    "name": "ipython",
    "version": 3
   },
   "file_extension": ".py",
   "mimetype": "text/x-python",
   "name": "python",
   "nbconvert_exporter": "python",
   "pygments_lexer": "ipython3",
   "version": "3.10.4"
  }
 },
 "nbformat": 4,
 "nbformat_minor": 2
}
