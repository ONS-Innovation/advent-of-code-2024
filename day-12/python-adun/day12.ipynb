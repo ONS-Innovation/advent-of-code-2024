{
 "cells": [
  {
   "cell_type": "code",
   "execution_count": 166,
   "metadata": {},
   "outputs": [],
   "source": [
    "# read the file input.txt\n",
    "with open('input.txt', 'r') as file:\n",
    "    data = file.readlines()\n",
    "\n",
    "grid = [list(line.strip()) for line in data]\n",
    "\n",
    "N = len(grid)\n",
    "M = len(grid[0])"
   ]
  },
  {
   "cell_type": "code",
   "execution_count": 167,
   "metadata": {},
   "outputs": [],
   "source": [
    "up = (-1, 0)\n",
    "down = (1, 0)\n",
    "left = (0, -1)\n",
    "right = (0, 1)\n",
    "\n",
    "dirs = [up, down, left, right]\n",
    "\n",
    "in_bounds = lambda x, y: 0 <= x < N and 0 <= y < M"
   ]
  },
  {
   "cell_type": "code",
   "execution_count": 168,
   "metadata": {},
   "outputs": [],
   "source": [
    "def extract_components():\n",
    "\n",
    "    # set of all positions in grid\n",
    "    all_positions = [(i, j) for i in range(N) for j in range(M)]\n",
    "\n",
    "    components = []\n",
    "    boundaries = []\n",
    "\n",
    "    while all_positions:\n",
    "        frontier = [all_positions[0]]\n",
    "        visited = []\n",
    "        component_cells = []\n",
    "        component_boundaries = []\n",
    "\n",
    "        while frontier:\n",
    "            pos = frontier.pop(0)\n",
    "\n",
    "            if pos in visited:\n",
    "                continue\n",
    "        \n",
    "            visited.append(pos)\n",
    "            component_cells.append(pos)\n",
    "            all_positions.remove(pos)\n",
    "\n",
    "            garden_id = grid[pos[0]][pos[1]]\n",
    "            for dir in dirs:\n",
    "                new_pos = (pos[0] + dir[0], pos[1] + dir[1])\n",
    "                if in_bounds(new_pos[0], new_pos[1]):\n",
    "                    if grid[new_pos[0]][new_pos[1]] == garden_id:\n",
    "                        frontier.append(new_pos)\n",
    "                    else:\n",
    "                        component_boundaries.append((pos, dir))\n",
    "                else:\n",
    "                    component_boundaries.append((pos, dir))\n",
    "\n",
    "        components.append(component_cells)\n",
    "        boundaries.append(component_boundaries)\n",
    "\n",
    "    return components, boundaries\n"
   ]
  },
  {
   "cell_type": "code",
   "execution_count": 169,
   "metadata": {},
   "outputs": [],
   "source": [
    "def process_component_part1(component_cells, component_boundaries):\n",
    "\n",
    "    region_size = len(component_cells)\n",
    "    num_edges = len(component_boundaries)\n",
    "    return region_size*num_edges"
   ]
  },
  {
   "cell_type": "code",
   "execution_count": 170,
   "metadata": {},
   "outputs": [],
   "source": [
    "def process_component_part2(component_cells, component_boundaries):\n",
    "\n",
    "    region_size = len(component_cells)\n",
    "\n",
    "    num_edges = len(component_boundaries)\n",
    "    for (i, j), dir in component_boundaries:\n",
    "        if dir in [up, down]:\n",
    "            edge_dir = left\n",
    "        elif dir in [left, right]:\n",
    "            edge_dir = up\n",
    "\n",
    "        if ((i + edge_dir[0], j + edge_dir[1]), dir) in component_boundaries:\n",
    "            num_edges -= 1\n",
    "\n",
    "    return region_size*num_edges\n"
   ]
  },
  {
   "cell_type": "code",
   "execution_count": 171,
   "metadata": {},
   "outputs": [],
   "source": [
    "components, boundaries = extract_components()"
   ]
  },
  {
   "cell_type": "code",
   "execution_count": 172,
   "metadata": {},
   "outputs": [
    {
     "data": {
      "text/plain": [
       "1319878"
      ]
     },
     "execution_count": 172,
     "metadata": {},
     "output_type": "execute_result"
    }
   ],
   "source": [
    "sum([process_component_part1(component_cells, component_boundaries) for component_cells, component_boundaries in zip(components, boundaries)])"
   ]
  },
  {
   "cell_type": "code",
   "execution_count": 173,
   "metadata": {},
   "outputs": [
    {
     "data": {
      "text/plain": [
       "784982"
      ]
     },
     "execution_count": 173,
     "metadata": {},
     "output_type": "execute_result"
    }
   ],
   "source": [
    "sum([process_component_part2(component_cells, component_boundaries) for component_cells, component_boundaries in zip(components, boundaries)])"
   ]
  }
 ],
 "metadata": {
  "kernelspec": {
   "display_name": "iot",
   "language": "python",
   "name": "python3"
  },
  "language_info": {
   "codemirror_mode": {
    "name": "ipython",
    "version": 3
   },
   "file_extension": ".py",
   "mimetype": "text/x-python",
   "name": "python",
   "nbconvert_exporter": "python",
   "pygments_lexer": "ipython3",
   "version": "3.10.12"
  }
 },
 "nbformat": 4,
 "nbformat_minor": 2
}
