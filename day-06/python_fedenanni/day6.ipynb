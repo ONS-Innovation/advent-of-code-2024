{
 "cells": [
  {
   "cell_type": "markdown",
   "metadata": {},
   "source": [
    "# Part 1"
   ]
  },
  {
   "cell_type": "code",
   "execution_count": 1,
   "metadata": {},
   "outputs": [],
   "source": [
    "original_data = open(\"input.txt\", \"r\").read().strip().split(\"\\n\")\n",
    "original_data = [list(x) for x in original_data]\n",
    "\n",
    "\n",
    "# pad the input with a 0 border\n",
    "for x in range(len(original_data)):\n",
    "    original_data[x].insert(0, \"0\")\n",
    "    original_data[x].append(\"0\")\n",
    "\n",
    "original_data.insert(0, [\"0\"] * len(original_data[0]))\n",
    "original_data.append([\"0\"] * len(original_data[0]))\n",
    "\n",
    "line = [x for x in range(len(original_data)) if \"^\" in original_data[x]][0]\n",
    "\n",
    "position = original_data[line].index(\"^\")\n",
    "status  = original_data[line][position]\n",
    "\n",
    "original_position = position\n",
    "original_line  = line"
   ]
  },
  {
   "cell_type": "code",
   "execution_count": 2,
   "metadata": {},
   "outputs": [],
   "source": [
    "def explore_space(input, line, position,status):\n",
    "    locations = set()\n",
    "    locations.add((line, position))\n",
    "    previous_loops = set()\n",
    "    count_steps = 0\n",
    "    while (line, position, status) not in previous_loops:\n",
    "            previous_loops.add((line, position, status))\n",
    "            count_steps += 1\n",
    "            if status == \"^\":\n",
    "                if input[line-1][position] == \".\":\n",
    "                    input[line-1][position] = \"^\"\n",
    "                    input[line][position] = \".\"\n",
    "                    line -= 1\n",
    "                    position = position\n",
    "                    status = input[line][position]\n",
    "                    if (line, position) not in locations:\n",
    "                        locations.add((line, position))\n",
    "                            \n",
    "\n",
    "                if input[line-1][position] == \"#\":\n",
    "                    status = \">\"\n",
    "                    input[line][position] = status\n",
    "\n",
    "                if input[line-1][position] == \"0\":\n",
    "                    return locations\n",
    "\n",
    "                \n",
    "            elif status == \">\":\n",
    "                if input[line][position+1] == \".\":\n",
    "                    input[line][position+1] = \">\"\n",
    "                    input[line][position] = \".\"\n",
    "                    line = line\n",
    "                    position += 1\n",
    "                    status = input[line][position]\n",
    "                    if (line, position) not in locations:\n",
    "                        locations.add((line, position))\n",
    "\n",
    "                if input[line][position+1] == \"#\":\n",
    "                    status = \"V\"\n",
    "                    input[line][position] = status\n",
    "                \n",
    "                if input[line][position+1] == \"0\":\n",
    "                    return locations\n",
    "                \n",
    "\n",
    "\n",
    "            elif status == \"V\":\n",
    "                if input[line+1][position] == \".\":\n",
    "                    input[line+1][position] = \"V\"\n",
    "                    input[line][position] = \".\"\n",
    "                    line += 1\n",
    "                    position = position\n",
    "                    status = input[line][position]\n",
    "                    if (line, position) not in locations:\n",
    "                        locations.add((line, position))\n",
    "                if input[line+1][position] == \"#\":\n",
    "                    status = \"<\"\n",
    "                    input[line][position] = status\n",
    "\n",
    "                if input[line+1][position] == \"0\":\n",
    "                    return locations\n",
    "\n",
    "                \n",
    "            elif status == \"<\":\n",
    "                if input[line][position-1] == \".\":\n",
    "                    input[line][position-1] = \"<\"\n",
    "                    input[line][position] = \".\"\n",
    "                    line = line\n",
    "                    position -= 1\n",
    "                    status = input[line][position]\n",
    "                    if (line, position) not in locations:\n",
    "                        locations.add((line, position))\n",
    "\n",
    "                if input[line][position-1] == \"#\":\n",
    "                    status = \"^\"\n",
    "                    input[line][position] = status\n",
    "                \n",
    "                if input[line][position-1] == \"0\":\n",
    "                    return locations\n",
    "    return \"Found a loop!\""
   ]
  },
  {
   "cell_type": "code",
   "execution_count": 3,
   "metadata": {},
   "outputs": [
    {
     "name": "stdout",
     "output_type": "stream",
     "text": [
      "4433\n"
     ]
    }
   ],
   "source": [
    "import copy\n",
    "input_copy = copy.deepcopy(original_data)\n",
    "\n",
    "locations = explore_space(input_copy, line, position, status)\n",
    "print(len(locations))"
   ]
  },
  {
   "cell_type": "markdown",
   "metadata": {},
   "source": [
    "# Part 2"
   ]
  },
  {
   "cell_type": "code",
   "execution_count": 4,
   "metadata": {},
   "outputs": [
    {
     "name": "stdout",
     "output_type": "stream",
     "text": [
      "1516\n"
     ]
    }
   ],
   "source": [
    "positions_for_obscruction = set()\n",
    "\n",
    "for x in range(len(original_data)):\n",
    "    for y in range(len(original_data[x])):\n",
    "        # if not original position\n",
    "        if x == original_line and y == original_position:\n",
    "            continue\n",
    "\n",
    "        if original_data[x][y] != \"#\" and original_data[x][y] != \"0\":\n",
    "\n",
    "            input_copy = copy.deepcopy(original_data)\n",
    "\n",
    "            input_copy[x][y] = \"#\"\n",
    "            res = explore_space(input_copy, line, position, status)\n",
    "            if res == \"Found a loop!\":\n",
    "                positions_for_obscruction.add((x,y))\n",
    "            else:\n",
    "                continue\n",
    "\n",
    "print(len(positions_for_obscruction))"
   ]
  }
 ],
 "metadata": {
  "kernelspec": {
   "display_name": ".venv",
   "language": "python",
   "name": "python3"
  },
  "language_info": {
   "codemirror_mode": {
    "name": "ipython",
    "version": 3
   },
   "file_extension": ".py",
   "mimetype": "text/x-python",
   "name": "python",
   "nbconvert_exporter": "python",
   "pygments_lexer": "ipython3",
   "version": "3.9.7"
  }
 },
 "nbformat": 4,
 "nbformat_minor": 2
}
