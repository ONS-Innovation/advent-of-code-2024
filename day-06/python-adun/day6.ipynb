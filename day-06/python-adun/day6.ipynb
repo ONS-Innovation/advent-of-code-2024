{
 "cells": [
  {
   "cell_type": "code",
   "execution_count": 3,
   "metadata": {},
   "outputs": [],
   "source": [
    "import numpy as np"
   ]
  },
  {
   "cell_type": "code",
   "execution_count": 4,
   "metadata": {},
   "outputs": [],
   "source": [
    "# open the file input.txt\n",
    "with open('input.txt', 'r') as file:\n",
    "    data = file.readlines()"
   ]
  },
  {
   "cell_type": "code",
   "execution_count": 5,
   "metadata": {},
   "outputs": [],
   "source": [
    "# convert data to numpy array where # is 1 and . is 0 and is 2 if ^\n",
    "floor = np.array([[2 if c == '^' else 1 if c == '#' else 0 for c in line.strip()] for line in data])\n",
    "\n",
    "# find the 2 in floor and print the index\n",
    "caret_location = np.where(floor == 2)\n",
    "floor[caret_location[0][0], caret_location[1][0]] = 0\n",
    "\n",
    "x0 = caret_location[0][0], caret_location[1][0]\n",
    "dir = np.array([-1, 0])"
   ]
  },
  {
   "cell_type": "code",
   "execution_count": 14,
   "metadata": {},
   "outputs": [],
   "source": [
    "def do_walk(floor):\n",
    "    x0 = caret_location[0][0], caret_location[1][0]\n",
    "    dir = np.array([-1, 0])\n",
    "\n",
    "    def out_of_bounds(x):\n",
    "        return x[0] < 0 or x[0] >= floor.shape[0] or x[1] < 0 or x[1] >= floor.shape[1]\n",
    "\n",
    "    x = x0\n",
    "    loop_set = set([(x[0], x[1], dir[0], dir[1])])\n",
    "    while True:\n",
    "        if out_of_bounds(x + dir):\n",
    "            break\n",
    "        elif floor[tuple(x + dir)] == 1:\n",
    "            dir = np.array([dir[1], -dir[0]])\n",
    "        else:\n",
    "            x = x + dir\n",
    "        \n",
    "        if (x[0], x[1], dir[0], dir[1]) in loop_set:\n",
    "            return 1, loop_set\n",
    "        else:\n",
    "            loop_set.add((x[0], x[1], dir[0], dir[1]))\n",
    "\n",
    "    return 0, loop_set"
   ]
  },
  {
   "cell_type": "markdown",
   "metadata": {},
   "source": [
    "# Part 1"
   ]
  },
  {
   "cell_type": "code",
   "execution_count": 15,
   "metadata": {},
   "outputs": [
    {
     "name": "stdout",
     "output_type": "stream",
     "text": [
      "5067\n"
     ]
    }
   ],
   "source": [
    "_, visited =do_walk(floor)\n",
    "\n",
    "# extract positions from visited as a set\n",
    "visited_positions = set([(x[0], x[1]) for x in visited])\n",
    "\n",
    "print(len(visited_positions))"
   ]
  },
  {
   "cell_type": "markdown",
   "metadata": {},
   "source": [
    "# Part 2 "
   ]
  },
  {
   "cell_type": "code",
   "execution_count": 18,
   "metadata": {},
   "outputs": [
    {
     "name": "stdout",
     "output_type": "stream",
     "text": [
      "1793\n"
     ]
    }
   ],
   "source": [
    "# loop over every index in floor\n",
    "num_loop_configs = 0\n",
    "for (i, j) in visited_positions:\n",
    "        #if not x0\n",
    "        if (i, j) != x0:\n",
    "            new_floor = floor.copy()\n",
    "            new_floor[i, j] = 1\n",
    "            if do_walk(new_floor)[0]:\n",
    "                num_loop_configs += 1\n",
    "\n",
    "print(num_loop_configs)\n"
   ]
  },
  {
   "cell_type": "code",
   "execution_count": null,
   "metadata": {},
   "outputs": [],
   "source": []
  }
 ],
 "metadata": {
  "kernelspec": {
   "display_name": "iot",
   "language": "python",
   "name": "python3"
  },
  "language_info": {
   "codemirror_mode": {
    "name": "ipython",
    "version": 3
   },
   "file_extension": ".py",
   "mimetype": "text/x-python",
   "name": "python",
   "nbconvert_exporter": "python",
   "pygments_lexer": "ipython3",
   "version": "3.10.12"
  }
 },
 "nbformat": 4,
 "nbformat_minor": 2
}
