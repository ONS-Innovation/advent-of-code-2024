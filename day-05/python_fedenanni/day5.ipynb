{
 "cells": [
  {
   "cell_type": "markdown",
   "metadata": {},
   "source": [
    "# Part 1"
   ]
  },
  {
   "cell_type": "code",
   "execution_count": null,
   "metadata": {},
   "outputs": [],
   "source": [
    "input = open(\"input.txt\", \"r\").read().strip().split(\"\\n\")\n",
    "instructions = [x for x in input if \"|\" in x]\n",
    "updates = [x for x in input if \"|\" not in x and len(x) > 0]\n",
    "instructions_dict = {}\n",
    "\n",
    "for i in instructions:\n",
    "    i = i.split(\"|\")\n",
    "    if i[1] not in instructions_dict:\n",
    "        instructions_dict[i[1]] = set()\n",
    "        instructions_dict[i[1]].add(i[0])\n",
    "    else:\n",
    "        instructions_dict[i[1]].add(i[0])"
   ]
  },
  {
   "cell_type": "code",
   "execution_count": 65,
   "metadata": {},
   "outputs": [],
   "source": [
    "def check_order(update, instructions_dict):\n",
    "    for n in range(len(update)):\n",
    "        number = update[n]\n",
    "        instr = instructions_dict[number]\n",
    "        next_numbers = update[n+1:]\n",
    "        for next_number in next_numbers:\n",
    "            if next_number in instr:\n",
    "                return False, (number, next_number)\n",
    "    return True, None"
   ]
  },
  {
   "cell_type": "code",
   "execution_count": 66,
   "metadata": {},
   "outputs": [
    {
     "name": "stdout",
     "output_type": "stream",
     "text": [
      "6949\n"
     ]
    }
   ],
   "source": [
    "tot = 0\n",
    "for update in updates:\n",
    "    update = update.split(\",\")\n",
    "    order_status, problem = check_order(update, instructions_dict)\n",
    "    if order_status:\n",
    "        tot += int(update[len(update)//2])\n",
    "print(tot)"
   ]
  },
  {
   "cell_type": "markdown",
   "metadata": {},
   "source": [
    "# Part 2"
   ]
  },
  {
   "cell_type": "code",
   "execution_count": null,
   "metadata": {},
   "outputs": [
    {
     "name": "stdout",
     "output_type": "stream",
     "text": [
      "4145\n"
     ]
    }
   ],
   "source": [
    "incorrectly_ordered = [x for x in updates if not check_order(x.split(\",\"), instructions_dict)[0]]\n",
    "tot = 0\n",
    "\n",
    "for update in incorrectly_ordered:\n",
    "    update_split = update.split(\",\")\n",
    "    order_status, problem = check_order(update_split, instructions_dict)\n",
    "    while not order_status:\n",
    "        update_split.remove(problem[1])\n",
    "        update_split.insert(update_split.index(problem[0]), problem[1])\n",
    "        order_status, problem = check_order(update_split, instructions_dict)\n",
    "    tot += int(update_split[len(update_split)//2])\n",
    "print(tot)"
   ]
  }
 ],
 "metadata": {
  "kernelspec": {
   "display_name": ".venv",
   "language": "python",
   "name": "python3"
  },
  "language_info": {
   "codemirror_mode": {
    "name": "ipython",
    "version": 3
   },
   "file_extension": ".py",
   "mimetype": "text/x-python",
   "name": "python",
   "nbconvert_exporter": "python",
   "pygments_lexer": "ipython3",
   "version": "3.9.7"
  }
 },
 "nbformat": 4,
 "nbformat_minor": 2
}
