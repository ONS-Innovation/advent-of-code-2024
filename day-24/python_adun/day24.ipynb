{
 "cells": [
  {
   "cell_type": "code",
   "execution_count": 401,
   "metadata": {},
   "outputs": [],
   "source": [
    "from itertools import combinations\n",
    "\n",
    "# open input.txt\n",
    "with open('input.txt', 'r') as file:\n",
    "    data = file.read().strip()\n",
    "\n",
    "# split data into lines\n",
    "lines = data.split('\\n')\n",
    "\n",
    "initial_values = {}\n",
    "# for lines that contain : and a number, split into key and value\n",
    "for line in lines:\n",
    "    if ':' in line:\n",
    "        key, value = line.split(':')\n",
    "        initial_values[key] = int(value)\n",
    "\n",
    "#gates = []\n",
    "gate_map = {}\n",
    "# if the lines contain AND OR XOR, split the line into 4 parts: input1, input2, operator, output\n",
    "for line in lines:\n",
    "    if \"->\" in line:\n",
    "        input1, operator, input2, _, output = line.split(' ')\n",
    "        gate_map[output] = (operator, input1, input2, output)\n",
    "\n"
   ]
  },
  {
   "cell_type": "code",
   "execution_count": 402,
   "metadata": {},
   "outputs": [],
   "source": [
    "# find all the gates with output value z*\n",
    "\n",
    "def evaluate_gate(gate, gate_map, initial_values):\n",
    "    operator, input1, input2, _ = gate\n",
    "    \n",
    "    if input1 in initial_values:\n",
    "        input1_value = initial_values[input1]\n",
    "    else:\n",
    "        input1_value = evaluate_gate(gate_map[input1], gate_map, initial_values)\n",
    "\n",
    "    if input2 in initial_values:\n",
    "        input2_value = initial_values[input2]\n",
    "    else:\n",
    "        input2_value = evaluate_gate(gate_map[input2], gate_map, initial_values)\n",
    "\n",
    "    if operator == \"AND\":\n",
    "        return input1_value & input2_value\n",
    "    elif operator == \"OR\":\n",
    "        return input1_value | input2_value\n",
    "    elif operator == \"XOR\":\n",
    "        return input1_value ^ input2_value\n"
   ]
  },
  {
   "cell_type": "code",
   "execution_count": 403,
   "metadata": {},
   "outputs": [
    {
     "data": {
      "text/plain": [
       "48063513640678"
      ]
     },
     "execution_count": 403,
     "metadata": {},
     "output_type": "execute_result"
    }
   ],
   "source": [
    "def evaluate_system(gate_map, initial_values):\n",
    "    outputs = []\n",
    "    terminal_gates = [(out, gate) for out, gate in gate_map.items() if out.startswith('z')]\n",
    "    for out, terminal_gate in terminal_gates:\n",
    "        p = int(out[1:])\n",
    "        outputs.append((p, evaluate_gate(terminal_gate, gate_map, initial_values)))\n",
    "\n",
    "    return sum([2**p * value for p, value in outputs])\n",
    "\n",
    "evaluate_system(gate_map, initial_values)"
   ]
  },
  {
   "cell_type": "markdown",
   "metadata": {},
   "source": [
    "# part 2"
   ]
  },
  {
   "cell_type": "code",
   "execution_count": 404,
   "metadata": {},
   "outputs": [],
   "source": [
    "op_map = {}\n",
    "\n",
    "for (out, gate) in gate_map.items():\n",
    "    op_map[(gate[0], gate[1], gate[2])] = out"
   ]
  },
  {
   "cell_type": "code",
   "execution_count": 405,
   "metadata": {},
   "outputs": [],
   "source": [
    "# check if the right operation exists within the circuit, and if so what is the output name\n",
    "def check_op_map(x_var, y_var, op):\n",
    "    # print(\"Checking op map for \", op, x_var, y_var)\n",
    "    if (op, x_var, y_var) in op_map:\n",
    "        out =  op_map[(op, x_var, y_var)]\n",
    "    elif (op, y_var, x_var) in op_map:\n",
    "        out = op_map[(op, y_var, x_var)]\n",
    "    else:\n",
    "        out = \"\"\n",
    "    # print(\"Out is \", out)\n",
    "    return out\n"
   ]
  },
  {
   "cell_type": "code",
   "execution_count": 406,
   "metadata": {},
   "outputs": [],
   "source": [
    "terminal_gates = [(out, gate) for out, gate in gate_map.items() if out.startswith('z')]\n",
    "num_outputs = len(terminal_gates)"
   ]
  },
  {
   "cell_type": "code",
   "execution_count": 407,
   "metadata": {},
   "outputs": [],
   "source": [
    "def carry_forward_check(op_map):\n",
    "\n",
    "    carry_forward = \"\"\n",
    "    new_carry = \"\"\n",
    "\n",
    "    to_be_verified_list = []\n",
    "    checked_list = []\n",
    "\n",
    "    for i in range(num_outputs):\n",
    "        index = f\"%02d\" % i\n",
    "        x_var = f\"x{index}\"\n",
    "        y_var = f\"y{index}\"\n",
    "        z_var = f\"z{index}\"\n",
    "\n",
    "        # follow through the two half-adders, and check that all the right operations are there\n",
    "        digit1 = check_op_map(x_var, y_var, \"XOR\")\n",
    "        carry1 = check_op_map(x_var, y_var, \"AND\")\n",
    "\n",
    "        if i == 0:\n",
    "            if digit1 != z_var:\n",
    "                return 0, checked_list\n",
    "\n",
    "            checked_list.append(digit1)\n",
    "            carry_forward = carry1\n",
    "        else:\n",
    "            digit2 = check_op_map(carry_forward, digit1, \"XOR\")\n",
    "\n",
    "            if digit2 != z_var:\n",
    "                return i-1, checked_list\n",
    "\n",
    "            checked_list.append(digit1)\n",
    "            for item in to_be_verified_list:\n",
    "                checked_list.append(item)\n",
    "\n",
    "            new_carry = check_op_map(carry_forward, digit1, \"AND\")\n",
    "            carry_forward = check_op_map(carry1, new_carry, \"OR\")\n",
    "\n",
    "            to_be_verified_list.append(carry_forward)\n",
    "            to_be_verified_list.append(new_carry)\n",
    "\n",
    "    return num_outputs, checked_list"
   ]
  },
  {
   "cell_type": "code",
   "execution_count": 408,
   "metadata": {},
   "outputs": [
    {
     "name": "stdout",
     "output_type": "stream",
     "text": [
      "Found a better attempt: 23\n",
      "swap =  vkq z11\n",
      "Found a better attempt: 27\n",
      "swap =  z24 mmk\n",
      "Found a better attempt: 37\n",
      "swap =  qdq pvb\n",
      "Found a better attempt: 44\n",
      "swap =  z38 hqh\n"
     ]
    }
   ],
   "source": [
    "swaps = set()\n",
    "personal_best, checked_list = carry_forward_check(op_map)\n",
    "for _ in range(4):\n",
    "    for op1,op2 in combinations(gate_map.keys(), 2):\n",
    "        gate1 = gate_map[op1]\n",
    "        gate2 = gate_map[op2]\n",
    "\n",
    "        if op1 in checked_list or op2 in checked_list:\n",
    "            continue\n",
    "\n",
    "        op_map[(gate1[0], gate1[1], gate1[2])] = op2\n",
    "        op_map[(gate2[0], gate2[1], gate2[2])] = op1\n",
    "\n",
    "        gate_map[op1] = gate2\n",
    "        gate_map[op2] = gate1\n",
    "\n",
    "        new_attempt, checked_in_attempt = carry_forward_check(op_map)\n",
    "\n",
    "        if new_attempt > personal_best:\n",
    "            personal_best = new_attempt\n",
    "            checked_list = checked_in_attempt\n",
    "\n",
    "            print(f\"Found a better attempt: {personal_best}\")\n",
    "            swaps.add((op1, op2))\n",
    "            print(\"swap = \", op1, op2)\n",
    "\n",
    "            break\n",
    "        \n",
    "        # revert the swap\n",
    "        op_map[(gate1[0], gate1[1], gate1[2])] = op1\n",
    "        op_map[(gate2[0], gate2[1], gate2[2])] = op2\n",
    "\n",
    "        gate_map[op1] = gate1\n",
    "        gate_map[op2] = gate2"
   ]
  },
  {
   "cell_type": "code",
   "execution_count": 409,
   "metadata": {},
   "outputs": [
    {
     "name": "stdout",
     "output_type": "stream",
     "text": [
      "hqh,mmk,pvb,qdq,vkq,z11,z24,z38\n"
     ]
    }
   ],
   "source": [
    "# flatten swaps and sort\n",
    "swaps_sorted = sorted(sum(swaps, start=tuple()))\n",
    "print(\",\".join(swaps_sorted))"
   ]
  },
  {
   "cell_type": "code",
   "execution_count": 410,
   "metadata": {},
   "outputs": [
    {
     "name": "stdout",
     "output_type": "stream",
     "text": [
      "47788350523110 47788350523110\n"
     ]
    }
   ],
   "source": [
    "# test it\n",
    "x = sum([2**int(p[1:]) * value for p, value in initial_values.items() if p.startswith('x')])\n",
    "y = sum([2**int(p[1:]) * value for p, value in initial_values.items() if p.startswith('y')])\n",
    "\n",
    "z = evaluate_system(gate_map, initial_values)\n",
    "\n",
    "print(x+ y, z)"
   ]
  },
  {
   "cell_type": "code",
   "execution_count": null,
   "metadata": {},
   "outputs": [],
   "source": []
  }
 ],
 "metadata": {
  "kernelspec": {
   "display_name": "iot",
   "language": "python",
   "name": "python3"
  },
  "language_info": {
   "codemirror_mode": {
    "name": "ipython",
    "version": 3
   },
   "file_extension": ".py",
   "mimetype": "text/x-python",
   "name": "python",
   "nbconvert_exporter": "python",
   "pygments_lexer": "ipython3",
   "version": "3.10.12"
  }
 },
 "nbformat": 4,
 "nbformat_minor": 2
}
