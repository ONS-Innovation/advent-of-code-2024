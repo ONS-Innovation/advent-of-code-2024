{
 "cells": [
  {
   "cell_type": "code",
   "execution_count": 9,
   "metadata": {},
   "outputs": [],
   "source": [
    "#open file input and read lines\n",
    "with open('input.txt', 'r') as file:\n",
    "    data = file.readlines()"
   ]
  },
  {
   "cell_type": "markdown",
   "metadata": {},
   "source": [
    "# Part 1"
   ]
  },
  {
   "cell_type": "code",
   "execution_count": 10,
   "metadata": {},
   "outputs": [],
   "source": [
    "m1 = ((0, 0),(-1, 0), (-2, 0), (-3, 0)) #north\n",
    "m2 = ((0, 0), (1, 0), (2, 0), (3, 0)) #south\n",
    "m3 = ((0, 0), (0, 1), (0, 2), (0, 3)) #east\n",
    "m4 = ((0, 0), (0, -1), (0, -2), (0, -3)) \n",
    "m5 = ((0, 0), (-1, 1), (-2, 2), (-3, 3))\n",
    "m6 = ((0, 0), (-1, -1), (-2, -2), (-3, -3))\n",
    "m7 = ((0, 0), (1, 1), (2, 2), (3, 3))\n",
    "m8 = ((0, 0), (1, -1), (2, -2), (3, -3))\n",
    "\n",
    "masks = [m1, m2, m3, m4, m5, m6, m7, m8]"
   ]
  },
  {
   "cell_type": "code",
   "execution_count": 11,
   "metadata": {},
   "outputs": [
    {
     "data": {
      "text/plain": [
       "2532"
      ]
     },
     "execution_count": 11,
     "metadata": {},
     "output_type": "execute_result"
    }
   ],
   "source": [
    "N = len(data)\n",
    "M = len(data[0])\n",
    "\n",
    "def match_mask(mask, lines):\n",
    "    match_counter = 0\n",
    "    for i in range(N):\n",
    "        for j in range(M):\n",
    "            if any(i + mask[k][0] < 0 or i + mask[k][0] >= N or j + mask[k][1] < 0 or j + mask[k][1] >= M for k in range(len(mask))):\n",
    "                continue\n",
    "            str = ''.join([lines[i + mask[k][0]][j + mask[k][1]] for k in range(len(mask))])\n",
    "            if str =='XMAS':\n",
    "                match_counter += 1\n",
    "    return match_counter\n",
    "\n",
    "sum([match_mask(mask, data) for mask in masks])\n"
   ]
  },
  {
   "cell_type": "markdown",
   "metadata": {},
   "source": [
    "# Part 2"
   ]
  },
  {
   "cell_type": "code",
   "execution_count": 12,
   "metadata": {},
   "outputs": [
    {
     "name": "stdout",
     "output_type": "stream",
     "text": [
      "1941\n"
     ]
    }
   ],
   "source": [
    "\n",
    "m1 = ((0, 0), (1, 1), (2, 2))\n",
    "m2 = ((0, 2), (1, 1), (2, 0))\n",
    "\n",
    "counter = 0\n",
    "for i in range(N):\n",
    "    for j in range(M):\n",
    "            if any(i + m1[k][0] < 0 or i + m1[k][0] >= N or j + m1[k][1] < 0 or j + m1[k][1] >= M for k in range(3)):\n",
    "                continue\n",
    "            if any(i + m2[k][0] < 0 or i + m2[k][0] >= N or j + m2[k][1] < 0 or j + m2[k][1] >= M for k in range(3)):\n",
    "                continue\n",
    "\n",
    "            str1 = ''.join([data[i+m1[k][0]][j+m1[k][1]] for k in range(3)])\n",
    "            str2 = ''.join([data[i+m2[k][0]][j+m2[k][1]] for k in range(3)])\n",
    "\n",
    "\n",
    "            if str1 in ['MAS', 'SAM'] and str2 in ['MAS', 'SAM']:\n",
    "                counter += 1\n",
    "\n",
    "print(counter)"
   ]
  },
  {
   "cell_type": "code",
   "execution_count": null,
   "metadata": {},
   "outputs": [],
   "source": []
  }
 ],
 "metadata": {
  "kernelspec": {
   "display_name": "venv",
   "language": "python",
   "name": "python3"
  },
  "language_info": {
   "codemirror_mode": {
    "name": "ipython",
    "version": 3
   },
   "file_extension": ".py",
   "mimetype": "text/x-python",
   "name": "python",
   "nbconvert_exporter": "python",
   "pygments_lexer": "ipython3",
   "version": "3.9.12"
  }
 },
 "nbformat": 4,
 "nbformat_minor": 2
}
