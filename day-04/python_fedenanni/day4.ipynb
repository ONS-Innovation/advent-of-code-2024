{
 "cells": [
  {
   "cell_type": "markdown",
   "metadata": {},
   "source": [
    "# Part 1"
   ]
  },
  {
   "cell_type": "code",
   "execution_count": null,
   "metadata": {},
   "outputs": [
    {
     "name": "stdout",
     "output_type": "stream",
     "text": [
      "2390\n"
     ]
    }
   ],
   "source": [
    "input = open(\"input.txt\", \"r\").read().strip().split(\"\\n\")\n",
    "input = [list(x) for x in input]\n",
    "\n",
    "def find_x_indexes(input):\n",
    "    x_indexes = []\n",
    "    for i in range(len(input)):\n",
    "        for j in range(len(input[i])):\n",
    "            if input[i][j] == \"X\":\n",
    "                x_indexes.append((i, j))\n",
    "    return x_indexes\n",
    "\n",
    "def find_m_indexes(input):\n",
    "    m_indexes = []\n",
    "    for i in range(len(input)):\n",
    "        for j in range(len(input[i])):\n",
    "            if input[i][j] == \"M\":\n",
    "                m_indexes.append((i, j))\n",
    "    return m_indexes\n",
    "\n",
    "x_indexes = find_x_indexes(input)\n",
    "m_indexes = find_m_indexes(input)\n",
    "\n",
    "def find_x_m_starts(x_indexes, m_indexes):\n",
    "    x_m_starts = []\n",
    "    for x in x_indexes:\n",
    "        all_possible_m_indexes = [(x[0], x[1] + 1,\"horizontal\"), \n",
    "                                (x[0], x[1] - 1, \"horizontal backwards\"),\n",
    "                                (x[0] + 1, x[1],\"vertical\"), \n",
    "                                (x[0] - 1, x[1], \"vertical backwards\"), \n",
    "                                (x[0] + 1, x[1] + 1, \"diagonal right\"), \n",
    "                                (x[0] + 1, x[1] - 1, \"diagonal left\"), \n",
    "                                (x[0] - 1, x[1] + 1, \"diagonal backward right\"), \n",
    "                                (x[0] - 1, x[1] - 1, \"diagonal backward left\")] \n",
    "        all_possible_m_indexes = [x for x in all_possible_m_indexes if x[0] >= 0 and x[0] < len(input) and x[1] >= 0 and x[1] < len(input[0])]\n",
    "\n",
    "        for m in all_possible_m_indexes:\n",
    "            m_without_direction = (m[0], m[1])\n",
    "            direction = m[2]\n",
    "            if m_without_direction in m_indexes:\n",
    "                x_m_starts.append((x, m_without_direction, direction))\n",
    "            \n",
    "    return x_m_starts\n",
    "\n",
    "x_m_starts = find_x_m_starts(x_indexes, m_indexes)\n",
    "\n",
    "def check_if_in_bounds(input, coord):\n",
    "    if coord[0] >= 0 and coord[0] < len(input) and coord[1] >= 0 and coord[1] < len(input[0]):\n",
    "        return True\n",
    "\n",
    "def find_a_s_continuation(x_m_starts, input):\n",
    "    counter = 0\n",
    "    for x_m_start in x_m_starts:\n",
    "        direction = x_m_start[2]\n",
    "        if direction == \"horizontal\":\n",
    "            start_location = x_m_start[0]\n",
    "            if check_if_in_bounds(input, (start_location[0], start_location[1] + 2)) and check_if_in_bounds(input, (start_location[0], start_location[1] + 3)):            \n",
    "                if input[start_location[0]][start_location[1]+ 2]  == \"A\" and input[start_location[0]][start_location[1]+ 3 ] == \"S\":\n",
    "                    counter += 1\n",
    "        if direction == \"horizontal backwards\":\n",
    "            start_location = x_m_start[0]\n",
    "            if check_if_in_bounds(input, (start_location[0], start_location[1] - 2)) and check_if_in_bounds(input, (start_location[0], start_location[1] - 3)):            \n",
    "                if input[start_location[0]][start_location[1]- 2]  == \"A\" and input[start_location[0]][start_location[1]- 3 ] == \"S\":\n",
    "                    counter += 1\n",
    "        if direction == \"vertical\":\n",
    "            start_location = x_m_start[0]\n",
    "            if check_if_in_bounds(input, (start_location[0] + 2, start_location[1])) and check_if_in_bounds(input, (start_location[0] + 3, start_location[1])):            \n",
    "                if input[start_location[0]+ 2][start_location[1]]  == \"A\" and input[start_location[0]+ 3][start_location[1] ] == \"S\":\n",
    "                    counter += 1\n",
    "        if direction == \"vertical backwards\":\n",
    "            start_location = x_m_start[0]\n",
    "            if check_if_in_bounds(input, (start_location[0] - 2, start_location[1])) and check_if_in_bounds(input, (start_location[0] - 3, start_location[1])):            \n",
    "                if input[start_location[0]- 2][start_location[1]]  == \"A\" and input[start_location[0]- 3][start_location[1] ] == \"S\":\n",
    "                    counter += 1\n",
    "        if direction == \"diagonal right\":\n",
    "            start_location = x_m_start[0]\n",
    "            if check_if_in_bounds(input, (start_location[0] + 2, start_location[1] + 2)) and check_if_in_bounds(input, (start_location[0] + 3, start_location[1] + 3)):            \n",
    "                if input[start_location[0]+ 2][start_location[1]+ 2]  == \"A\" and input[start_location[0]+ 3][start_location[1]+ 3 ] == \"S\":\n",
    "                    counter += 1\n",
    "        if direction == \"diagonal left\":\n",
    "            start_location = x_m_start[0]\n",
    "            if check_if_in_bounds(input, (start_location[0] + 2, start_location[1] - 2)) and check_if_in_bounds(input, (start_location[0] + 3, start_location[1] - 3)):            \n",
    "                if input[start_location[0]+ 2][start_location[1]- 2]  == \"A\" and input[start_location[0]+ 3][start_location[1]- 3 ] == \"S\":\n",
    "                    counter += 1\n",
    "        if direction == \"diagonal backward right\":\n",
    "            start_location = x_m_start[0]\n",
    "            if check_if_in_bounds(input, (start_location[0] - 2, start_location[1] + 2)) and check_if_in_bounds(input, (start_location[0] - 3, start_location[1] + 3)):            \n",
    "                if input[start_location[0]- 2][start_location[1]+ 2]  == \"A\" and input[start_location[0]- 3][start_location[1]+ 3 ] == \"S\":\n",
    "                    counter += 1\n",
    "        if direction == \"diagonal backward left\":\n",
    "            start_location = x_m_start[0]\n",
    "            if check_if_in_bounds(input, (start_location[0] - 2, start_location[1] - 2)) and check_if_in_bounds(input, (start_location[0] - 3, start_location[1] - 3)):            \n",
    "                if input[start_location[0]- 2][start_location[1]- 2]  == \"A\" and input[start_location[0]- 3][start_location[1]- 3 ] == \"S\":\n",
    "                    counter += 1\n",
    "    return counter\n",
    "\n",
    "print(find_a_s_continuation(x_m_starts, input))\n"
   ]
  },
  {
   "cell_type": "markdown",
   "metadata": {},
   "source": [
    "# Part 2"
   ]
  },
  {
   "cell_type": "code",
   "execution_count": null,
   "metadata": {},
   "outputs": [
    {
     "data": {
      "text/plain": [
       "1809"
      ]
     },
     "execution_count": 65,
     "metadata": {},
     "output_type": "execute_result"
    }
   ],
   "source": [
    "input = open(\"input.txt\", \"r\").read().strip().split(\"\\n\")\n",
    "input = [list(x) for x in input]\n",
    "\n",
    "def find_a_s_diagonal(m_indexes, input):\n",
    "    central_a = []\n",
    "    for m_index in m_indexes:\n",
    "        all_possible_a = [(m_index[0] + 1, m_index[1] + 1, \"diagonal right\"), \n",
    "                          (m_index[0] + 1, m_index[1] - 1,  \"diagonal left\"), \n",
    "                          (m_index[0] - 1, m_index[1] + 1,  \"diagonal backward right\"), \n",
    "                          (m_index[0] - 1, m_index[1] - 1,  \"diagonal backward left\")]\n",
    "        all_possible_a = [x for x in all_possible_a if x[0] >= 0 and x[0] < len(input) and x[1] >= 0 and x[1] < len(input[0])]\n",
    "        keep_as = [a for a in all_possible_a if input[a[0]][a[1]] == \"A\"]\n",
    "        for keep_a in keep_as:\n",
    "            a_coord = (keep_a[0], keep_a[1])\n",
    "            direction = keep_a[2]\n",
    "            if direction == \"diagonal right\":\n",
    "                if check_if_in_bounds(input, (keep_a[0] + 1, keep_a[1] + 1)):            \n",
    "                    if input[keep_a[0]+ 1][keep_a[1]+ 1]  == \"S\":\n",
    "                        central_a.append(a_coord)\n",
    "            if direction == \"diagonal left\":\n",
    "                if check_if_in_bounds(input, (keep_a[0] + 1, keep_a[1] - 1)):            \n",
    "                    if input[keep_a[0]+ 1][keep_a[1]- 1]  == \"S\":\n",
    "                        central_a.append(a_coord)\n",
    "            if direction == \"diagonal backward right\":\n",
    "                if check_if_in_bounds(input, (keep_a[0] - 1, keep_a[1] + 1)):            \n",
    "                    if input[keep_a[0]- 1][keep_a[1]+ 1]  == \"S\":\n",
    "                        central_a.append(a_coord)\n",
    "            if direction == \"diagonal backward left\":\n",
    "                if check_if_in_bounds(input, (keep_a[0] - 1, keep_a[1] - 1)):            \n",
    "                    if input[keep_a[0]- 1][keep_a[1]- 1]  == \"S\":\n",
    "                        central_a.append(a_coord)\n",
    "\n",
    "    central_a = set([x for x in central_a if central_a.count(x) > 1])\n",
    "\n",
    "    return len(central_a)\n",
    "\n",
    "find_a_s_diagonal(m_indexes, input)"
   ]
  }
 ],
 "metadata": {
  "kernelspec": {
   "display_name": ".venv",
   "language": "python",
   "name": "python3"
  },
  "language_info": {
   "codemirror_mode": {
    "name": "ipython",
    "version": 3
   },
   "file_extension": ".py",
   "mimetype": "text/x-python",
   "name": "python",
   "nbconvert_exporter": "python",
   "pygments_lexer": "ipython3",
   "version": "3.9.7"
  }
 },
 "nbformat": 4,
 "nbformat_minor": 2
}
