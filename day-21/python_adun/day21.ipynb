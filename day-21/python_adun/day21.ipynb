{
 "cells": [
  {
   "cell_type": "code",
   "execution_count": 183,
   "metadata": {},
   "outputs": [],
   "source": [
    "# open file\n",
    "with open('input.txt', 'r') as file:\n",
    "    data = file.read().strip()\n",
    "\n",
    "codes = data.split('\\n')\n",
    "\n",
    "from math import inf"
   ]
  },
  {
   "cell_type": "code",
   "execution_count": 184,
   "metadata": {},
   "outputs": [],
   "source": [
    "numerical_keypad = {\n",
    "    '7': (0, 0),\n",
    "    '8': (0, 1),\n",
    "    '9': (0, 2),\n",
    "    '4': (1, 0),\n",
    "    '5': (1, 1),\n",
    "    '6': (1, 2),\n",
    "    '1': (2, 0),\n",
    "    '2': (2, 1),\n",
    "    '3': (2, 2),\n",
    "    '0': (3, 1),\n",
    "    'A': (3, 2),\n",
    "}\n",
    "\n",
    "directional_keypad = {\n",
    "    '^': (0, 1),\n",
    "    'A': (0, 2), \n",
    "    '<': (1, 0),\n",
    "    'v': (1, 1),\n",
    "    '>': (1, 2)\n",
    "}\n"
   ]
  },
  {
   "cell_type": "code",
   "execution_count": 185,
   "metadata": {},
   "outputs": [],
   "source": [
    "def get_neighbours(reverse_keypad, current_node):\n",
    "    dirs = {(0, -1):\"<\", (0, 1):\">\", (-1, 0):\"^\", (1, 0):\"v\"}\n",
    "    neighbours = []\n",
    "    for dir in dirs:\n",
    "        new_pos = (current_node[0] + dir[0], current_node[1] + dir[1])\n",
    "        if new_pos in reverse_keypad:\n",
    "            neighbours.append((new_pos, dirs[dir]))\n",
    "    return neighbours\n",
    "\n",
    "def find_all_paths(keypad, start, end):\n",
    "    reverse_keypad = {v: k for k, v in keypad.items()}\n",
    "    current_node = keypad[start]\n",
    "    all_paths = []\n",
    "    \n",
    "    def dfs(node, path, visited):\n",
    "        if reverse_keypad[node] == end:\n",
    "            all_paths.append(path+[\"A\"])\n",
    "            return\n",
    "            \n",
    "        neighbours = get_neighbours(reverse_keypad, node)\n",
    "        for neighbour, direction in neighbours:\n",
    "            if neighbour not in visited:\n",
    "                dfs(neighbour, path + [direction], visited | {neighbour})\n",
    "    \n",
    "    dfs(current_node, [], {current_node})\n",
    "    return all_paths\n"
   ]
  },
  {
   "cell_type": "code",
   "execution_count": 186,
   "metadata": {},
   "outputs": [],
   "source": [
    "cache = {}\n",
    "def find_path_length(sequence, level_keypads, level=0, max_level=2):\n",
    "\n",
    "    seq_str = \"\".join(sequence)\n",
    "    if (seq_str, level) in cache:\n",
    "        return cache[(seq_str, level)]\n",
    "    keypad = level_keypads[level]\n",
    "    sequence = [\"A\"] + sequence \n",
    "\n",
    "    total_length = 0\n",
    "    for i in range(len(sequence)-1):\n",
    "        start, end = sequence[i:i+2]\n",
    "        paths = find_all_paths(keypad, start, end)\n",
    "        min_length = inf \n",
    "        for path in paths:\n",
    "            if level < max_level:\n",
    "                path_length = find_path_length(path, level_keypads, level+1, max_level)\n",
    "            else:\n",
    "                path_length = len(path)\n",
    "            if path_length < min_length:\n",
    "                min_length = path_length\n",
    "        total_length += min_length\n",
    "    cache[(seq_str, level)] = total_length\n",
    "    return total_length\n",
    "    "
   ]
  },
  {
   "cell_type": "code",
   "execution_count": 187,
   "metadata": {},
   "outputs": [
    {
     "data": {
      "text/plain": [
       "107934"
      ]
     },
     "execution_count": 187,
     "metadata": {},
     "output_type": "execute_result"
    }
   ],
   "source": [
    "cache = {}\n",
    "\n",
    "# part 1\n",
    "level_keypads = {\n",
    "    0: numerical_keypad,\n",
    "    1: directional_keypad,\n",
    "    2: directional_keypad\n",
    "}\n",
    "\n",
    "sum([int(code[:-1])*find_path_length(list(code), level_keypads) for code in codes])"
   ]
  },
  {
   "cell_type": "code",
   "execution_count": 189,
   "metadata": {},
   "outputs": [
    {
     "data": {
      "text/plain": [
       "130470079151124"
      ]
     },
     "execution_count": 189,
     "metadata": {},
     "output_type": "execute_result"
    }
   ],
   "source": [
    "# part 2\n",
    "cache = {}\n",
    "level_keypads = dict([(i, directional_keypad) for i in range(1, 26)] + [(0, numerical_keypad)])\n",
    "sum([int(code[:-1])*find_path_length(list(code), level_keypads, max_level=25) for code in codes])"
   ]
  },
  {
   "cell_type": "code",
   "execution_count": null,
   "metadata": {},
   "outputs": [],
   "source": []
  }
 ],
 "metadata": {
  "kernelspec": {
   "display_name": "iot",
   "language": "python",
   "name": "python3"
  },
  "language_info": {
   "codemirror_mode": {
    "name": "ipython",
    "version": 3
   },
   "file_extension": ".py",
   "mimetype": "text/x-python",
   "name": "python",
   "nbconvert_exporter": "python",
   "pygments_lexer": "ipython3",
   "version": "3.10.12"
  }
 },
 "nbformat": 4,
 "nbformat_minor": 2
}
