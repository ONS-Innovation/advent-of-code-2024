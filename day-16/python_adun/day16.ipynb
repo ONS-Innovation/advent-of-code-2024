{
 "cells": [
  {
   "cell_type": "code",
   "execution_count": 53,
   "metadata": {},
   "outputs": [],
   "source": [
    "# open the file input.txt\n",
    "with open('input.txt', 'r') as file:\n",
    "    data = file.read().strip()\n",
    "\n",
    "# split the data into lines\n",
    "lines = data.split('\\n')\n",
    "\n",
    "# convert into a list of lists\n",
    "maze = [list(line) for line in lines]\n",
    "\n",
    "# find the start point demarked 'S'\n",
    "x0 = None\n",
    "for i, row in enumerate(maze):\n",
    "    for j, cell in enumerate(row):\n",
    "        if cell == 'S':\n",
    "            x0 = (i, j)\n",
    "            break\n",
    "\n",
    "v0 = (0, 1)"
   ]
  },
  {
   "cell_type": "code",
   "execution_count": 54,
   "metadata": {},
   "outputs": [],
   "source": [
    "def rotate_counterclockwise(v):\n",
    "    return (-v[1], v[0])\n",
    "\n",
    "\n",
    "def get_neighbours(maze, current_node):\n",
    "    x, v = current_node\n",
    "\n",
    "    neighbours = []\n",
    "    \n",
    "    for i in range(4):\n",
    "        new_pos = (x[0] + v[0], x[1] + v[1])\n",
    "\n",
    "        weight = min(i, 4 - i)*1000 + 1\n",
    "        if maze[new_pos[0]][new_pos[1]] != '#':\n",
    "            neighbours.append(((new_pos, v), weight))\n",
    "\n",
    "        v = rotate_counterclockwise(v)\n",
    "\n",
    "    return neighbours\n"
   ]
  },
  {
   "cell_type": "code",
   "execution_count": 56,
   "metadata": {},
   "outputs": [],
   "source": [
    "# Vanilla Dijkstra's algorithm\n",
    "def dijkstra_one_path(maze, x0, v0):\n",
    "    shortest_path = {(x0, v0): (None, 0)}\n",
    "    current_node = (x0, v0)\n",
    "    visited = set()\n",
    "\n",
    "    while maze[current_node[0][0]][current_node[0][1]] != 'E':\n",
    "        visited.add(current_node)\n",
    "\n",
    "        # get the neighbours\n",
    "        neighbors = get_neighbours(maze, current_node)\n",
    "\n",
    "        #cost of current node\n",
    "        cost = shortest_path[current_node][1]\n",
    "\n",
    "        for new_node, weight in neighbors:\n",
    "            new_cost = cost + weight\n",
    "            if new_node not in shortest_path:\n",
    "                shortest_path[new_node] = (current_node, new_cost)\n",
    "            else:\n",
    "                current_shortest_cost = shortest_path[new_node][1]\n",
    "                if new_cost < current_shortest_cost:\n",
    "                    shortest_path[new_node] = (current_node, new_cost)\n",
    "\n",
    "        next_destinations = {node: shortest_path[node] for node in shortest_path if node not in visited}\n",
    "\n",
    "        if not next_destinations:\n",
    "            return \"No path found\"\n",
    "        \n",
    "        current_node = min(next_destinations, key=lambda x: next_destinations[x][1])\n",
    "\n",
    "    total_cost = shortest_path[current_node][1]\n",
    "    \n",
    "    # I don't need this, but ok\n",
    "    path = []\n",
    "    while current_node is not None:\n",
    "        path.append(current_node)\n",
    "        next_node = shortest_path[current_node][0]\n",
    "        current_node = next_node\n",
    "    # Reverse path\n",
    "    path = path[::-1]\n",
    "\n",
    "    return total_cost, path\n",
    "\n",
    "\n"
   ]
  },
  {
   "cell_type": "code",
   "execution_count": 57,
   "metadata": {},
   "outputs": [
    {
     "name": "stdout",
     "output_type": "stream",
     "text": [
      "104516\n"
     ]
    }
   ],
   "source": [
    "cost, _ = dijkstra_one_path(maze, x0, v0)\n",
    "print(cost)"
   ]
  },
  {
   "cell_type": "markdown",
   "metadata": {},
   "source": [
    "# Part 2"
   ]
  },
  {
   "cell_type": "code",
   "execution_count": 58,
   "metadata": {},
   "outputs": [],
   "source": [
    "def dijkstra_all_paths(maze, x0, v0):\n",
    "    shortest_paths = {(x0, v0): (None, 0)}  # this now stores a list of previous nodes\n",
    "    current_node = (x0, v0)\n",
    "    visited = set()\n",
    "\n",
    "    while maze[current_node[0][0]][current_node[0][1]] != 'E':\n",
    "        visited.add(current_node)\n",
    "\n",
    "        # get the neighbours\n",
    "        neighbors = get_neighbours(maze, current_node)\n",
    "\n",
    "        #cost of current node\n",
    "        cost = shortest_paths[current_node][1]\n",
    "\n",
    "        for new_node, weight in neighbors:\n",
    "            new_cost = cost + weight\n",
    "            if new_node not in shortest_paths:\n",
    "                shortest_paths[new_node] = ([current_node], new_cost)\n",
    "            else:\n",
    "                current_shortest_cost = shortest_paths[new_node][1]\n",
    "                if new_cost < current_shortest_cost:\n",
    "                    shortest_paths[new_node] = ([current_node], new_cost)\n",
    "                elif new_cost == current_shortest_cost:  # add the current node to the list of previous nodes, all having the same value\n",
    "                    shortest_paths[new_node][0].append(current_node)\n",
    "\n",
    "        # explore the frontier\n",
    "        next_destinations = {node: shortest_paths[node] for node in shortest_paths if node not in visited}\n",
    "\n",
    "        if not next_destinations:\n",
    "            return \"No path found\"\n",
    "        \n",
    "        current_node = min(next_destinations, key=lambda x: next_destinations[x][1])\n",
    "    \n",
    "    # get all nodes in all paths\n",
    "    path_stack = [current_node]\n",
    "    node_list = set()\n",
    "    while path_stack:\n",
    "        current_node = path_stack.pop()\n",
    "\n",
    "        node_list.add(current_node)\n",
    "        next_nodes = shortest_paths[current_node][0]\n",
    "\n",
    "        if next_nodes:\n",
    "            for node in next_nodes:\n",
    "                if node not in node_list:\n",
    "                    path_stack.append(node)\n",
    "\n",
    "    return node_list\n"
   ]
  },
  {
   "cell_type": "code",
   "execution_count": 59,
   "metadata": {},
   "outputs": [
    {
     "name": "stdout",
     "output_type": "stream",
     "text": [
      "545\n"
     ]
    }
   ],
   "source": [
    "node_list = dijkstra_all_paths(maze, x0, v0)\n",
    "\n",
    "# get the unique positions ignoring the directions\n",
    "num_visited = len(set([pos for pos, _ in node_list]))\n",
    "print(num_visited)\n",
    "\n"
   ]
  },
  {
   "cell_type": "code",
   "execution_count": null,
   "metadata": {},
   "outputs": [],
   "source": []
  }
 ],
 "metadata": {
  "kernelspec": {
   "display_name": "iot",
   "language": "python",
   "name": "python3"
  },
  "language_info": {
   "codemirror_mode": {
    "name": "ipython",
    "version": 3
   },
   "file_extension": ".py",
   "mimetype": "text/x-python",
   "name": "python",
   "nbconvert_exporter": "python",
   "pygments_lexer": "ipython3",
   "version": "3.10.12"
  }
 },
 "nbformat": 4,
 "nbformat_minor": 2
}
